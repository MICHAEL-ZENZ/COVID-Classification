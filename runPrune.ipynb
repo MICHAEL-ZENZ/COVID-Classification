{
 "cells": [
  {
   "cell_type": "code",
   "execution_count": 1,
   "metadata": {},
   "outputs": [
    {
     "name": "stdout",
     "output_type": "stream",
     "text": [
      "Device cuda\n",
      "resnet50 ['CT_COVID', 'CT_NonCOVID']\n",
      "...........Testing..........\n"
     ]
    }
   ],
   "source": [
    "from model import Densenet, Inceptionv3, ResNet, VGG, SimpleCNN, Efficientnet, ResNeSt, Ensemble,SeResNet, Deeplabv3\n",
    "from model import prunnableResNet\n",
    "from model.layer.prunableLayer import prunnableConv2D,prunnableLinear\n",
    "from utils import CovidCTDataset,metrics, SimCLR_loss, LabelSmoothSoftmaxCE\n",
    "from utils import autoaugment as auto\n",
    "from torch.utils.data import DataLoader\n",
    "import argparse\n",
    "import torch\n",
    "import torch.nn.functional as F\n",
    "from tqdm import tqdm\n",
    "import time\n",
    "import torch.nn as nn\n",
    "import os\n",
    "import random\n",
    "from torchvision import transforms\n",
    "import numpy as np\n",
    "from sklearn.metrics import roc_auc_score\n",
    "\n",
    "from collections import OrderedDict\n",
    "import matplotlib.pyplot as plt\n",
    "import easydict\n",
    "\n",
    "import gc\n",
    "\n",
    "MODEL_DICT = {\n",
    "    'densenet121': Densenet.densenet121,\n",
    "    'densenet161': Densenet.densenet161,\n",
    "    'densenet169': Densenet.densenet169,\n",
    "    'densenet201': Densenet.densenet201,\n",
    "    'resnet18': ResNet.resnet18,\n",
    "    'resnet50': ResNet.resnet50,\n",
    "    'resnet101': ResNet.resnet101,\n",
    "    'resnet152': ResNet.resnet152,\n",
    "    'seresnet50': SeResNet.se_resnet50,\n",
    "    'seresnet101': SeResNet.se_resnet101,\n",
    "    'seresnet152': SeResNet.se_resnet152,\n",
    "    'resnext101': ResNet.resnext101_32x8d,\n",
    "    'resnest50': ResNeSt.resnest50,\n",
    "    'resnest200': ResNeSt.resnest200,\n",
    "    'wide_resnet101': ResNet.wide_resnet101_2,\n",
    "    'wide_resnet50': ResNet.wide_resnet50_2,\n",
    "    'vgg16': VGG.vgg16,\n",
    "    'CNN': SimpleCNN.CNN,\n",
    "    'Linear': SimpleCNN.Linear,\n",
    "    'SimpleCNN': SimpleCNN.SimpleCNN,\n",
    "    'efficientnet-b7': Efficientnet.efficientnetb7,\n",
    "    'efficientnet-b1': Efficientnet.efficientnetb1,\n",
    "    'efficientnet-b0': Efficientnet.efficientnetb0\n",
    "}\n",
    "\n",
    "PRUNNABLE_MODEL_DICT={\n",
    "    'resnet18':prunnableResNet.resnet18,\n",
    "    'resnet50':prunnableResNet.resnet50,\n",
    "    'resnet101':prunnableResNet.resnet101,\n",
    "    'resnet152':prunnableResNet.resnet152\n",
    "}\n",
    "\n",
    "def train(model, train_loader, optimizer, PRINT_INTERVAL, epoch, args, device):\n",
    "    model.train()\n",
    "    # LOSS_FUNC = LabelSmoothSoftmaxCE()\n",
    "    LOSS_FUNC = nn.CrossEntropyLoss()\n",
    "    for index, batch in enumerate(tqdm(train_loader)):\n",
    "        img, label = batch['img'].to(device), batch['label'].to(device)\n",
    "        output = model(img)\n",
    "        optimizer.zero_grad()\n",
    "        loss = LOSS_FUNC(output, label)\n",
    "        loss.backward()\n",
    "        optimizer.step()\n",
    "        if (index + 1) % PRINT_INTERVAL == 0:\n",
    "            tqdm.write('Epoch [%d/%d], Iter [%d/%d], Loss: %.4f'\n",
    "                       % (epoch + 1, args.epoch, index + 1, len(train_loader), loss.item()))\n",
    "\n",
    "def test(model, nb_classes, test_loader, device):\n",
    "    model.eval()\n",
    "    predlist = []\n",
    "    targetlist = []\n",
    "    confusion_matrix = torch.zeros(nb_classes, nb_classes)\n",
    "    avg_val_loss = 0\n",
    "    with torch.no_grad():\n",
    "        for index, batch in enumerate(tqdm(test_loader)):\n",
    "            img, label = batch['img'].to(device), batch['label'].to(device)\n",
    "            output = model(img)\n",
    "            _, preds = torch.max(output, 1)\n",
    "            avg_val_loss += F.cross_entropy(output, label).item()/len(test_loader)\n",
    "            for t, p in zip(label.view(-1), preds.view(-1)):\n",
    "                confusion_matrix[t.long(), p.long()] += 1\n",
    "            y_score = F.softmax(output, dim=1)\n",
    "            predlist = np.append(predlist, y_score.cpu().numpy()[:, 1])\n",
    "            targetlist = np.append(targetlist, label.long().cpu().numpy())\n",
    "\n",
    "    AUC = roc_auc_score(targetlist, predlist)\n",
    "    print(confusion_matrix)\n",
    "    precision = metrics.Precision(confusion_matrix.cpu().numpy(), nb_classes)\n",
    "    recall = metrics.Recall(confusion_matrix, nb_classes)\n",
    "    f1 = metrics.f1_score(precision, recall)\n",
    "    acc = metrics.Acc(confusion_matrix,nb_classes)\n",
    "\n",
    "    return AUC, precision, recall, f1, acc, avg_val_loss\n",
    "\n",
    "def test_mask(model, nb_classes, test_loader, device):\n",
    "    model.eval()\n",
    "    predlist = []\n",
    "    targetlist = []\n",
    "    confusion_matrix = torch.zeros(nb_classes, nb_classes)\n",
    "    avg_val_loss = 0\n",
    "    with torch.no_grad():\n",
    "        for index, batch in enumerate(tqdm(test_loader)):\n",
    "            img, label = batch['img'].to(device), batch['label'].to(device)\n",
    "            cls_pred, mask_pred = model(img)\n",
    "            _, preds = torch.max(cls_pred, 1)\n",
    "\n",
    "            avg_val_loss += F.cross_entropy(cls_pred, label).item()/len(test_loader)\n",
    "            for t, p in zip(label.view(-1), preds.view(-1)):\n",
    "                confusion_matrix[t.long(), p.long()] += 1\n",
    "            y_score = F.softmax(cls_pred, dim=1)\n",
    "            predlist = np.append(predlist, y_score.cpu().numpy()[:, 1])\n",
    "            targetlist = np.append(targetlist, label.long().cpu().numpy())\n",
    "\n",
    "    AUC = roc_auc_score(targetlist, predlist)\n",
    "    print(confusion_matrix)\n",
    "    precision = metrics.Precision(confusion_matrix.cpu().numpy(), nb_classes)\n",
    "    recall = metrics.Recall(confusion_matrix, nb_classes)\n",
    "    f1 = metrics.f1_score(precision, recall)\n",
    "    acc = metrics.Acc(confusion_matrix,nb_classes)\n",
    "\n",
    "    return AUC, precision, recall, f1, acc, avg_val_loss\n",
    "\n",
    "def convertPaWeights2NonP(pretrained_state_dict):\n",
    "  nonpStateDict=OrderedDict()\n",
    "  for k, v in pretrained_state_dict.items():\n",
    "    nonpStateDict[k[7:]]=v\n",
    "  return nonpStateDict\n",
    "\n",
    "def convertStateDict2Prunnable(state_dict):\n",
    "    prunedStateDict=OrderedDict()\n",
    "    for k, v in state_dict.items():\n",
    "        if 'conv' in k or 'downsample.0' in k:\n",
    "            p=k.find('.weight')\n",
    "            k=k[:p]+'.conv'+k[p:]\n",
    "        elif 'fc' in k:\n",
    "            p=k.find('fc')\n",
    "            k=k[:p+3]+'linear.'+k[p+3:]\n",
    "            \n",
    "\n",
    "        prunedStateDict[k]=v\n",
    "    return prunedStateDict\n",
    "\n",
    "models_config = (\n",
    "    # model name, model path, weight, data_parallel\n",
    "    ('resnet152', 'resnet152_4_4_crop_480_b16_pretrained.pt', 1, True),\n",
    "    ('resnet152', 'resnet152_4_4_crop_480_b16w1.2_pretrained.pt', 1, True),\n",
    "    ('resnext101', 'resnext101_4_4_crop_480_pretrained.pt', 1, True),\n",
    "    ('densenet169', 'densenet169-480-moco-soft-COVID.pt', 1, True),\n",
    "    ('densenet169', 'densenet169_4_4_crop_480_b16_pretrained.pt', 1, True),\n",
    "    ('densenet169', 'densenet169_soft_480_pretrained.pt', 1, True),\n",
    ")\n",
    "\n",
    "args = easydict.EasyDict({\n",
    "    'model_name':'resnet50',\n",
    "    'checkpoint_path':'./checkpoint/CT',\n",
    "    'batch_size':16,\n",
    "    'lr':1e-4,\n",
    "    'epoch':50,\n",
    "    'root_dir':'./COVID-CT/Images-processed',\n",
    "\n",
    "    'train_COV':'./COVID-CT/Data-split/COVID/trainCT_COVID.txt',\n",
    "    'train_NonCOV':'./COVID-CT/Data-split/NonCOVID/trainCT_NonCOVID.txt',\n",
    "\n",
    "    'val_COV':'./COVID-CT/Data-split/COVID/valCT_COVID.txt',\n",
    "    'val_NonCOV':'./COVID-CT/Data-split/NonCOVID/valCT_NonCOVID.txt',\n",
    "\n",
    "    'test_COV':'./COVID-CT/Data-split/COVID/testCT_COVID.txt',\n",
    "    'test_NonCOV':'./COVID-CT/Data-split/NonCOVID/testCT_NonCOVID.txt',\n",
    "\n",
    "    'pretrained':True,\n",
    "    'save_name':'resnet50_pretrained.pt'\n",
    "})\n",
    "\n",
    "device = torch.device(\"cuda\" if torch.cuda.is_available() else \"cpu\")\n",
    "print(\"Device {}\".format(device))\n",
    "# Create checkpoint file\n",
    "save_path = os.path.join(args.checkpoint_path, args.model_name)\n",
    "if os.path.exists(save_path) == False:\n",
    "    os.makedirs(save_path)\n",
    "\n",
    "normalize = transforms.Normalize(mean=[0.45271412, 0.45271412, 0.45271412],\n",
    "                                    std=[0.33165374, 0.33165374, 0.33165374])\n",
    "test_trans = transforms.Compose(\n",
    "                                [\n",
    "                                transforms.Resize((480,480)),\n",
    "                                transforms.ToTensor(),\n",
    "                                normalize\n",
    "                                ]\n",
    "                            )\n",
    "trainset = CovidCTDataset(root_dir=args.root_dir,\n",
    "                            txt_COVID=args.train_COV,\n",
    "                            txt_NonCOVID=args.train_NonCOV,\n",
    "                            transform=transforms.Compose(\n",
    "                                [transforms.RandomResizedCrop((480,480),scale=(0.8,1.2)),\n",
    "                                    transforms.RandomHorizontalFlip(),\n",
    "                                    auto.ImageNetPolicy(),\n",
    "                                    transforms.ToTensor(),\n",
    "                                    normalize\n",
    "                                    ]\n",
    "                            ))\n",
    "valset = CovidCTDataset(root_dir=args.root_dir,\n",
    "                        txt_COVID=args.val_COV,\n",
    "                        txt_NonCOVID=args.val_NonCOV,\n",
    "                            transform=test_trans\n",
    "                            )\n",
    "\n",
    "testset = CovidCTDataset(root_dir=args.root_dir,\n",
    "                            txt_COVID=args.test_COV,\n",
    "                            txt_NonCOVID=args.test_NonCOV,\n",
    "                            transform=test_trans\n",
    "                            )\n",
    "\n",
    "train_loader = DataLoader(trainset,\n",
    "                            batch_size=args.batch_size,\n",
    "                            num_workers=8,\n",
    "                            shuffle=True)\n",
    "val_loader = DataLoader(valset, batch_size=args.batch_size)\n",
    "test_loader = DataLoader(testset,batch_size=args.batch_size)\n",
    "\n",
    "PRINT_INTERVAL = 10\n",
    "nb_classes = 2\n",
    "seg_num_class = 2\n",
    "print(args.model_name,trainset.classes)\n",
    "\n",
    "model = PRUNNABLE_MODEL_DICT[args.model_name](num_classes=nb_classes, pretrained=args.pretrained)\n",
    "\n",
    "accs = []\n",
    "save = os.path.join(save_path,'{}'.format(args.save_name))\n",
    "\n",
    "print('...........Testing..........')\n",
    "pretrained_state_dict=torch.load(save, map_location=torch.device('cpu'))\n",
    "pretrained_state_dict=convertPaWeights2NonP(pretrained_state_dict)\n",
    "model.load_state_dict(convertStateDict2Prunnable(pretrained_state_dict))\n",
    "\n",
    "if torch.cuda.device_count() > 1:\n",
    "    print(\"Let's use\", torch.cuda.device_count(), \"GPUs!\")\n",
    "    # dim = 0 [30, xxx] -> [10, ...], [10, ...], [10, ...] on 3 GPUs\n",
    "    model = nn.DataParallel(model).to(device)\n",
    "elif torch.cuda.device_count() == 1:\n",
    "    model.to(device)\n",
    "elif torch.cuda.is_available():\n",
    "    print(\"GPU detected but cannot use\")\n"
   ]
  },
  {
   "cell_type": "code",
   "execution_count": 2,
   "metadata": {},
   "outputs": [
    {
     "name": "stdout",
     "output_type": "stream",
     "text": [
      "In total 53 conv, 1 dense\n"
     ]
    }
   ],
   "source": [
    "cntConv=0\n",
    "cntDense=0\n",
    "\n",
    "for m in model.modules():\n",
    "    if isinstance(m, prunnableConv2D):\n",
    "        cntConv+=1\n",
    "    elif isinstance(m, prunnableLinear):\n",
    "        cntDense+=1\n",
    "print(\"In total %d conv, %d dense\"%(cntConv,cntDense))"
   ]
  },
  {
   "cell_type": "code",
   "execution_count": 6,
   "metadata": {},
   "outputs": [
    {
     "name": "stderr",
     "output_type": "stream",
     "text": [
      "\r",
      "  0%|          | 0/13 [00:00<?, ?it/s]"
     ]
    },
    {
     "name": "stdout",
     "output_type": "stream",
     "text": [
      "prunnableConv2D(\n",
      "  (conv): Conv2d(3, 64, kernel_size=(7, 7), stride=(2, 2), padding=(3, 3), bias=False)\n",
      ")\n",
      "prune ratio:0.000000\n"
     ]
    },
    {
     "name": "stderr",
     "output_type": "stream",
     "text": [
      "100%|██████████| 13/13 [00:19<00:00,  1.29s/it]\n",
      "  0%|          | 0/13 [00:00<?, ?it/s]"
     ]
    },
    {
     "name": "stdout",
     "output_type": "stream",
     "text": [
      "tensor([[91.,  7.],\n",
      "        [68., 37.]])\n",
      "Precision [0.9285714  0.35238096]\tRecall [0.572327   0.84090906]\n",
      "F1 [0.70817125 0.49664432]\n",
      "AUC 0.7459669582118561\tAcc 0.6305418610572815\tMean Loss 0.6953537819477228\n",
      "prune ratio:0.100000\n"
     ]
    },
    {
     "name": "stderr",
     "output_type": "stream",
     "text": [
      "100%|██████████| 13/13 [00:19<00:00,  1.27s/it]\n",
      "  0%|          | 0/13 [00:00<?, ?it/s]"
     ]
    },
    {
     "name": "stdout",
     "output_type": "stream",
     "text": [
      "tensor([[77., 21.],\n",
      "        [40., 65.]])\n",
      "Precision [0.78571427 0.61904764]\tRecall [0.6581197  0.75581396]\n",
      "F1 [0.7162791 0.6806283]\n",
      "AUC 0.7430515063168125\tAcc 0.6995074152946472\tMean Loss 0.650707240288074\n",
      "prune ratio:0.200000\n"
     ]
    },
    {
     "name": "stderr",
     "output_type": "stream",
     "text": [
      "100%|██████████| 13/13 [00:18<00:00,  1.30s/it]\n",
      "  0%|          | 0/13 [00:00<?, ?it/s]"
     ]
    },
    {
     "name": "stdout",
     "output_type": "stream",
     "text": [
      "tensor([[82., 16.],\n",
      "        [52., 53.]])\n",
      "Precision [0.8367347  0.50476193]\tRecall [0.6119403  0.76811594]\n",
      "F1 [0.7068966 0.6091954]\n",
      "AUC 0.7498542274052478\tAcc 0.6650246381759644\tMean Loss 0.6395644728954022\n",
      "prune ratio:0.300000\n"
     ]
    },
    {
     "name": "stderr",
     "output_type": "stream",
     "text": [
      "100%|██████████| 13/13 [00:19<00:00,  1.19s/it]\n",
      "  0%|          | 0/13 [00:00<?, ?it/s]"
     ]
    },
    {
     "name": "stdout",
     "output_type": "stream",
     "text": [
      "tensor([[70., 28.],\n",
      "        [33., 72.]])\n",
      "Precision [0.71428573 0.6857143 ]\tRecall [0.6796116 0.72     ]\n",
      "F1 [0.69651747 0.70243907]\n",
      "AUC 0.7334305150631683\tAcc 0.6995074152946472\tMean Loss 0.6456993245161496\n",
      "prune ratio:0.400000\n"
     ]
    },
    {
     "name": "stderr",
     "output_type": "stream",
     "text": [
      "100%|██████████| 13/13 [00:16<00:00,  1.14s/it]\n",
      "  0%|          | 0/13 [00:00<?, ?it/s]"
     ]
    },
    {
     "name": "stdout",
     "output_type": "stream",
     "text": [
      "tensor([[96.,  2.],\n",
      "        [93., 12.]])\n",
      "Precision [0.97959185 0.11428571]\tRecall [0.50793654 0.85714287]\n",
      "F1 [0.6689896  0.20168068]\n",
      "AUC 0.7247813411078717\tAcc 0.5320196747779846\tMean Loss 0.7056529315618368\n",
      "prune ratio:0.500000\n"
     ]
    },
    {
     "name": "stderr",
     "output_type": "stream",
     "text": [
      "100%|██████████| 13/13 [00:15<00:00,  1.14s/it]\n",
      "  0%|          | 0/13 [00:00<?, ?it/s]"
     ]
    },
    {
     "name": "stdout",
     "output_type": "stream",
     "text": [
      "tensor([[90.,  8.],\n",
      "        [67., 38.]])\n",
      "Precision [0.9183673  0.36190477]\tRecall [0.5732484  0.82608694]\n",
      "F1 [0.7058823 0.5033112]\n",
      "AUC 0.7766763848396502\tAcc 0.6305418610572815\tMean Loss 0.6506233467505528\n",
      "prune ratio:0.600000\n"
     ]
    },
    {
     "name": "stderr",
     "output_type": "stream",
     "text": [
      "100%|██████████| 13/13 [00:18<00:00,  1.34s/it]\n",
      "  0%|          | 0/13 [00:00<?, ?it/s]"
     ]
    },
    {
     "name": "stdout",
     "output_type": "stream",
     "text": [
      "tensor([[ 98.,   0.],\n",
      "        [102.,   3.]])\n",
      "Precision [1.         0.02857143]\tRecall [0.49 1.  ]\n",
      "F1 [0.6577181  0.05555555]\n",
      "AUC 0.7620991253644315\tAcc 0.49753695726394653\tMean Loss 0.7061052459936876\n",
      "prune ratio:0.700000\n"
     ]
    },
    {
     "name": "stderr",
     "output_type": "stream",
     "text": [
      "100%|██████████| 13/13 [00:18<00:00,  1.16s/it]\n",
      "  0%|          | 0/13 [00:00<?, ?it/s]"
     ]
    },
    {
     "name": "stdout",
     "output_type": "stream",
     "text": [
      "tensor([[ 97.,   1.],\n",
      "        [103.,   2.]])\n",
      "Precision [0.9897959  0.01904762]\tRecall [0.485     0.6666667]\n",
      "F1 [0.65100676 0.03703704]\n",
      "AUC 0.7707482993197279\tAcc 0.4876847267150879\tMean Loss 0.6765875839270078\n",
      "prune ratio:0.800000\n"
     ]
    },
    {
     "name": "stderr",
     "output_type": "stream",
     "text": [
      "100%|██████████| 13/13 [00:17<00:00,  1.08s/it]\n",
      "/home/z7zeng/ECE228-final/COVID-Z/utils/metrics.py:25: RuntimeWarning: invalid value encountered in true_divide\n",
      "  return (2*precision*recall)/(precision+recall)\n",
      "  0%|          | 0/13 [00:00<?, ?it/s]"
     ]
    },
    {
     "name": "stdout",
     "output_type": "stream",
     "text": [
      "tensor([[ 97.,   1.],\n",
      "        [105.,   0.]])\n",
      "Precision [0.9897959 0.       ]\tRecall [0.48019803 0.        ]\n",
      "F1 [0.64666665        nan]\n",
      "AUC 0.8124392614188531\tAcc 0.47783252596855164\tMean Loss 0.691039727284358\n",
      "prune ratio:0.900000\n"
     ]
    },
    {
     "name": "stderr",
     "output_type": "stream",
     "text": [
      "100%|██████████| 13/13 [00:19<00:00,  1.22s/it]\n",
      "  0%|          | 0/13 [00:00<?, ?it/s]"
     ]
    },
    {
     "name": "stdout",
     "output_type": "stream",
     "text": [
      "tensor([[ 98.,   0.],\n",
      "        [103.,   2.]])\n",
      "Precision [1.         0.01904762]\tRecall [0.48756218 1.        ]\n",
      "F1 [0.6555184  0.03738318]\n",
      "AUC 0.8012633624878523\tAcc 0.4926108419895172\tMean Loss 0.6781329535520992\n",
      "prunnableConv2D(\n",
      "  (conv): Conv2d(64, 256, kernel_size=(1, 1), stride=(1, 1), bias=False)\n",
      ")\n",
      "prune ratio:0.000000\n"
     ]
    },
    {
     "name": "stderr",
     "output_type": "stream",
     "text": [
      "100%|██████████| 13/13 [00:16<00:00,  1.04s/it]\n",
      "  0%|          | 0/13 [00:00<?, ?it/s]"
     ]
    },
    {
     "name": "stdout",
     "output_type": "stream",
     "text": [
      "tensor([[91.,  7.],\n",
      "        [68., 37.]])\n",
      "Precision [0.9285714  0.35238096]\tRecall [0.572327   0.84090906]\n",
      "F1 [0.70817125 0.49664432]\n",
      "AUC 0.7459669582118561\tAcc 0.6305418610572815\tMean Loss 0.6953537819477228\n",
      "prune ratio:0.100000\n"
     ]
    },
    {
     "name": "stderr",
     "output_type": "stream",
     "text": [
      "100%|██████████| 13/13 [00:17<00:00,  1.17s/it]\n",
      "  0%|          | 0/13 [00:00<?, ?it/s]"
     ]
    },
    {
     "name": "stdout",
     "output_type": "stream",
     "text": [
      "tensor([[86., 12.],\n",
      "        [61., 44.]])\n",
      "Precision [0.877551   0.41904762]\tRecall [0.585034   0.78571427]\n",
      "F1 [0.70204085 0.5465839 ]\n",
      "AUC 0.7569484936831876\tAcc 0.6403940916061401\tMean Loss 0.6508560432837559\n",
      "prune ratio:0.200000\n"
     ]
    },
    {
     "name": "stderr",
     "output_type": "stream",
     "text": [
      "100%|██████████| 13/13 [00:17<00:00,  1.21s/it]\n",
      "  0%|          | 0/13 [00:00<?, ?it/s]"
     ]
    },
    {
     "name": "stdout",
     "output_type": "stream",
     "text": [
      "tensor([[79., 19.],\n",
      "        [53., 52.]])\n",
      "Precision [0.8061224 0.4952381]\tRecall [0.5984849  0.73239434]\n",
      "F1 [0.6869565 0.5909091]\n",
      "AUC 0.7542274052478134\tAcc 0.6453201770782471\tMean Loss 0.6342980655340048\n",
      "prune ratio:0.300000\n"
     ]
    },
    {
     "name": "stderr",
     "output_type": "stream",
     "text": [
      "100%|██████████| 13/13 [00:17<00:00,  1.12s/it]\n",
      "  0%|          | 0/13 [00:00<?, ?it/s]"
     ]
    },
    {
     "name": "stdout",
     "output_type": "stream",
     "text": [
      "tensor([[69., 29.],\n",
      "        [30., 75.]])\n",
      "Precision [0.70408165 0.71428573]\tRecall [0.6969697  0.72115386]\n",
      "F1 [0.70050764 0.71770334]\n",
      "AUC 0.7429543245869776\tAcc 0.7093595862388611\tMean Loss 0.6261912125807542\n",
      "prune ratio:0.400000\n"
     ]
    },
    {
     "name": "stderr",
     "output_type": "stream",
     "text": [
      "100%|██████████| 13/13 [00:17<00:00,  1.19s/it]\n",
      "  0%|          | 0/13 [00:00<?, ?it/s]"
     ]
    },
    {
     "name": "stdout",
     "output_type": "stream",
     "text": [
      "tensor([[62., 36.],\n",
      "        [24., 81.]])\n",
      "Precision [0.63265306 0.7714286 ]\tRecall [0.7209302 0.6923077]\n",
      "F1 [0.673913  0.7297298]\n",
      "AUC 0.7620019436345968\tAcc 0.7044335007667542\tMean Loss 0.6190340610650868\n",
      "prune ratio:0.500000\n"
     ]
    },
    {
     "name": "stderr",
     "output_type": "stream",
     "text": [
      "100%|██████████| 13/13 [00:17<00:00,  1.15s/it]\n",
      "  0%|          | 0/13 [00:00<?, ?it/s]"
     ]
    },
    {
     "name": "stdout",
     "output_type": "stream",
     "text": [
      "tensor([[48., 50.],\n",
      "        [23., 82.]])\n",
      "Precision [0.48979592 0.7809524 ]\tRecall [0.6760563 0.6212121]\n",
      "F1 [0.56804734 0.69198316]\n",
      "AUC 0.7504373177842566\tAcc 0.6403940916061401\tMean Loss 0.6326532501440782\n",
      "prune ratio:0.600000\n"
     ]
    },
    {
     "name": "stderr",
     "output_type": "stream",
     "text": [
      "100%|██████████| 13/13 [00:16<00:00,  1.20s/it]\n",
      "  0%|          | 0/13 [00:00<?, ?it/s]"
     ]
    },
    {
     "name": "stdout",
     "output_type": "stream",
     "text": [
      "tensor([[54., 44.],\n",
      "        [21., 84.]])\n",
      "Precision [0.5510204 0.8      ]\tRecall [0.72    0.65625]\n",
      "F1 [0.6242774 0.7210301]\n",
      "AUC 0.765597667638484\tAcc 0.6798029541969299\tMean Loss 0.6224656540613908\n",
      "prune ratio:0.700000\n"
     ]
    },
    {
     "name": "stderr",
     "output_type": "stream",
     "text": [
      "100%|██████████| 13/13 [00:16<00:00,  1.08s/it]\n",
      "  0%|          | 0/13 [00:00<?, ?it/s]"
     ]
    },
    {
     "name": "stdout",
     "output_type": "stream",
     "text": [
      "tensor([[67., 31.],\n",
      "        [23., 82.]])\n",
      "Precision [0.68367344 0.7809524 ]\tRecall [0.74444443 0.7256637 ]\n",
      "F1 [0.712766  0.7522936]\n",
      "AUC 0.7919339164237125\tAcc 0.7339901328086853\tMean Loss 0.611720908146638\n",
      "prune ratio:0.800000\n"
     ]
    },
    {
     "name": "stderr",
     "output_type": "stream",
     "text": [
      "100%|██████████| 13/13 [00:16<00:00,  1.14s/it]\n",
      "  0%|          | 0/13 [00:00<?, ?it/s]"
     ]
    },
    {
     "name": "stdout",
     "output_type": "stream",
     "text": [
      "tensor([[61., 37.],\n",
      "        [21., 84.]])\n",
      "Precision [0.622449 0.8     ]\tRecall [0.74390244 0.6942149 ]\n",
      "F1 [0.67777777 0.7433629 ]\n",
      "AUC 0.7780369290573372\tAcc 0.7142857313156128\tMean Loss 0.6182078306491559\n",
      "prune ratio:0.900000\n"
     ]
    },
    {
     "name": "stderr",
     "output_type": "stream",
     "text": [
      "100%|██████████| 13/13 [00:16<00:00,  1.03s/it]\n",
      "  0%|          | 0/13 [00:00<?, ?it/s]"
     ]
    },
    {
     "name": "stdout",
     "output_type": "stream",
     "text": [
      "tensor([[59., 39.],\n",
      "        [25., 80.]])\n",
      "Precision [0.6020408 0.7619048]\tRecall [0.70238096 0.6722689 ]\n",
      "F1 [0.64835167 0.71428573]\n",
      "AUC 0.7434402332361516\tAcc 0.6847290396690369\tMean Loss 0.6314756365922781\n",
      "prunnableConv2D(\n",
      "  (conv): Conv2d(128, 512, kernel_size=(1, 1), stride=(1, 1), bias=False)\n",
      ")\n",
      "prune ratio:0.000000\n"
     ]
    },
    {
     "name": "stderr",
     "output_type": "stream",
     "text": [
      "100%|██████████| 13/13 [00:18<00:00,  1.22s/it]\n",
      "  0%|          | 0/13 [00:00<?, ?it/s]"
     ]
    },
    {
     "name": "stdout",
     "output_type": "stream",
     "text": [
      "tensor([[91.,  7.],\n",
      "        [68., 37.]])\n",
      "Precision [0.9285714  0.35238096]\tRecall [0.572327   0.84090906]\n",
      "F1 [0.70817125 0.49664432]\n",
      "AUC 0.7459669582118561\tAcc 0.6305418610572815\tMean Loss 0.6953537819477228\n",
      "prune ratio:0.100000\n"
     ]
    },
    {
     "name": "stderr",
     "output_type": "stream",
     "text": [
      "100%|██████████| 13/13 [00:18<00:00,  1.25s/it]\n",
      "  0%|          | 0/13 [00:00<?, ?it/s]"
     ]
    },
    {
     "name": "stdout",
     "output_type": "stream",
     "text": [
      "tensor([[94.,  4.],\n",
      "        [68., 37.]])\n",
      "Precision [0.9591837  0.35238096]\tRecall [0.5802469 0.902439 ]\n",
      "F1 [0.72307694 0.5068493 ]\n",
      "AUC 0.7494655004859085\tAcc 0.6453201770782471\tMean Loss 0.6928669019387318\n",
      "prune ratio:0.200000\n"
     ]
    },
    {
     "name": "stderr",
     "output_type": "stream",
     "text": [
      "100%|██████████| 13/13 [00:17<00:00,  1.09s/it]\n",
      "  0%|          | 0/13 [00:00<?, ?it/s]"
     ]
    },
    {
     "name": "stdout",
     "output_type": "stream",
     "text": [
      "tensor([[94.,  4.],\n",
      "        [73., 32.]])\n",
      "Precision [0.9591837  0.30476192]\tRecall [0.56287426 0.8888889 ]\n",
      "F1 [0.709434  0.4539007]\n",
      "AUC 0.7466472303206997\tAcc 0.6206896305084229\tMean Loss 0.6929069310426712\n",
      "prune ratio:0.300000\n"
     ]
    },
    {
     "name": "stderr",
     "output_type": "stream",
     "text": [
      "100%|██████████| 13/13 [00:17<00:00,  1.08s/it]\n",
      "  0%|          | 0/13 [00:00<?, ?it/s]"
     ]
    },
    {
     "name": "stdout",
     "output_type": "stream",
     "text": [
      "tensor([[95.,  3.],\n",
      "        [79., 26.]])\n",
      "Precision [0.96938777 0.24761905]\tRecall [0.545977  0.8965517]\n",
      "F1 [0.6985294 0.3880597]\n",
      "AUC 0.7537414965986396\tAcc 0.5960590839385986\tMean Loss 0.6944576742557378\n",
      "prune ratio:0.400000\n"
     ]
    },
    {
     "name": "stderr",
     "output_type": "stream",
     "text": [
      "100%|██████████| 13/13 [00:18<00:00,  1.19s/it]\n",
      "  0%|          | 0/13 [00:00<?, ?it/s]"
     ]
    },
    {
     "name": "stdout",
     "output_type": "stream",
     "text": [
      "tensor([[97.,  1.],\n",
      "        [84., 21.]])\n",
      "Precision [0.9897959 0.2      ]\tRecall [0.5359116  0.95454544]\n",
      "F1 [0.6953405  0.33070865]\n",
      "AUC 0.7509232264334306\tAcc 0.5812807679176331\tMean Loss 0.7053998846274155\n",
      "prune ratio:0.500000\n"
     ]
    },
    {
     "name": "stderr",
     "output_type": "stream",
     "text": [
      "100%|██████████| 13/13 [00:18<00:00,  1.18s/it]\n",
      "  0%|          | 0/13 [00:00<?, ?it/s]"
     ]
    },
    {
     "name": "stdout",
     "output_type": "stream",
     "text": [
      "tensor([[95.,  3.],\n",
      "        [74., 31.]])\n",
      "Precision [0.96938777 0.2952381 ]\tRecall [0.56213015 0.9117647 ]\n",
      "F1 [0.7116105 0.4460432]\n",
      "AUC 0.7468415937803694\tAcc 0.6206896305084229\tMean Loss 0.6844541017825787\n",
      "prune ratio:0.600000\n"
     ]
    },
    {
     "name": "stderr",
     "output_type": "stream",
     "text": [
      "100%|██████████| 13/13 [00:18<00:00,  1.31s/it]\n",
      "  0%|          | 0/13 [00:00<?, ?it/s]"
     ]
    },
    {
     "name": "stdout",
     "output_type": "stream",
     "text": [
      "tensor([[93.,  5.],\n",
      "        [74., 31.]])\n",
      "Precision [0.9489796 0.2952381]\tRecall [0.55688626 0.8611111 ]\n",
      "F1 [0.7018869  0.43971637]\n",
      "AUC 0.7434402332361516\tAcc 0.610837459564209\tMean Loss 0.6809865626005026\n",
      "prune ratio:0.700000\n"
     ]
    },
    {
     "name": "stderr",
     "output_type": "stream",
     "text": [
      "100%|██████████| 13/13 [00:20<00:00,  1.34s/it]\n",
      "  0%|          | 0/13 [00:00<?, ?it/s]"
     ]
    },
    {
     "name": "stdout",
     "output_type": "stream",
     "text": [
      "tensor([[91.,  7.],\n",
      "        [81., 24.]])\n",
      "Precision [0.9285714  0.22857143]\tRecall [0.5290698 0.7741935]\n",
      "F1 [0.6740741 0.3529412]\n",
      "AUC 0.7467444120505345\tAcc 0.5665024518966675\tMean Loss 0.6745777198901544\n",
      "prune ratio:0.800000\n"
     ]
    },
    {
     "name": "stderr",
     "output_type": "stream",
     "text": [
      "100%|██████████| 13/13 [00:16<00:00,  1.15s/it]\n",
      "  0%|          | 0/13 [00:00<?, ?it/s]"
     ]
    },
    {
     "name": "stdout",
     "output_type": "stream",
     "text": [
      "tensor([[92.,  6.],\n",
      "        [80., 25.]])\n",
      "Precision [0.93877554 0.23809524]\tRecall [0.53488374 0.8064516 ]\n",
      "F1 [0.6814815  0.36764708]\n",
      "AUC 0.7438289601554908\tAcc 0.5763546824455261\tMean Loss 0.6735689112773309\n",
      "prune ratio:0.900000\n"
     ]
    },
    {
     "name": "stderr",
     "output_type": "stream",
     "text": [
      "100%|██████████| 13/13 [00:17<00:00,  1.07s/it]\n",
      "  0%|          | 0/13 [00:00<?, ?it/s]"
     ]
    },
    {
     "name": "stdout",
     "output_type": "stream",
     "text": [
      "tensor([[94.,  4.],\n",
      "        [84., 21.]])\n",
      "Precision [0.9591837 0.2      ]\tRecall [0.5280899 0.84     ]\n",
      "F1 [0.6811594  0.32307693]\n",
      "AUC 0.7472303206997085\tAcc 0.5665024518966675\tMean Loss 0.6782578505002536\n",
      "prunnableConv2D(\n",
      "  (conv): Conv2d(256, 1024, kernel_size=(1, 1), stride=(1, 1), bias=False)\n",
      ")\n",
      "prune ratio:0.000000\n"
     ]
    },
    {
     "name": "stderr",
     "output_type": "stream",
     "text": [
      "100%|██████████| 13/13 [00:16<00:00,  1.08s/it]\n",
      "  0%|          | 0/13 [00:00<?, ?it/s]"
     ]
    },
    {
     "name": "stdout",
     "output_type": "stream",
     "text": [
      "tensor([[91.,  7.],\n",
      "        [68., 37.]])\n",
      "Precision [0.9285714  0.35238096]\tRecall [0.572327   0.84090906]\n",
      "F1 [0.70817125 0.49664432]\n",
      "AUC 0.7459669582118561\tAcc 0.6305418610572815\tMean Loss 0.6953537819477228\n",
      "prune ratio:0.100000\n"
     ]
    },
    {
     "name": "stderr",
     "output_type": "stream",
     "text": [
      "100%|██████████| 13/13 [00:19<00:00,  1.39s/it]\n",
      "  0%|          | 0/13 [00:00<?, ?it/s]"
     ]
    },
    {
     "name": "stdout",
     "output_type": "stream",
     "text": [
      "tensor([[96.,  2.],\n",
      "        [83., 22.]])\n",
      "Precision [0.97959185 0.20952381]\tRecall [0.5363129 0.9166667]\n",
      "F1 [0.69314086 0.34108526]\n",
      "AUC 0.7458697764820214\tAcc 0.5812807679176331\tMean Loss 0.7246338954338661\n",
      "prune ratio:0.200000\n"
     ]
    },
    {
     "name": "stderr",
     "output_type": "stream",
     "text": [
      "100%|██████████| 13/13 [00:18<00:00,  1.32s/it]\n",
      "  0%|          | 0/13 [00:00<?, ?it/s]"
     ]
    },
    {
     "name": "stdout",
     "output_type": "stream",
     "text": [
      "tensor([[97.,  1.],\n",
      "        [85., 20.]])\n",
      "Precision [0.9897959 0.1904762]\tRecall [0.53296703 0.95238096]\n",
      "F1 [0.6928571  0.31746033]\n",
      "AUC 0.7468415937803693\tAcc 0.5763546824455261\tMean Loss 0.7295778657381351\n",
      "prune ratio:0.300000\n"
     ]
    },
    {
     "name": "stderr",
     "output_type": "stream",
     "text": [
      "100%|██████████| 13/13 [00:17<00:00,  1.15s/it]\n",
      "  0%|          | 0/13 [00:00<?, ?it/s]"
     ]
    },
    {
     "name": "stdout",
     "output_type": "stream",
     "text": [
      "tensor([[97.,  1.],\n",
      "        [89., 16.]])\n",
      "Precision [0.9897959  0.15238096]\tRecall [0.52150536 0.9411765 ]\n",
      "F1 [0.68309855 0.26229507]\n",
      "AUC 0.7513119533527697\tAcc 0.5566502213478088\tMean Loss 0.7334322069699948\n",
      "prune ratio:0.400000\n"
     ]
    },
    {
     "name": "stderr",
     "output_type": "stream",
     "text": [
      "100%|██████████| 13/13 [00:17<00:00,  1.15s/it]\n",
      "  0%|          | 0/13 [00:00<?, ?it/s]"
     ]
    },
    {
     "name": "stdout",
     "output_type": "stream",
     "text": [
      "tensor([[97.,  1.],\n",
      "        [86., 19.]])\n",
      "Precision [0.9897959  0.18095239]\tRecall [0.5300546 0.95     ]\n",
      "F1 [0.6903915 0.304    ]\n",
      "AUC 0.751603498542274\tAcc 0.5714285969734192\tMean Loss 0.7216849980446008\n",
      "prune ratio:0.500000\n"
     ]
    },
    {
     "name": "stderr",
     "output_type": "stream",
     "text": [
      "100%|██████████| 13/13 [00:17<00:00,  1.24s/it]\n",
      "  0%|          | 0/13 [00:00<?, ?it/s]"
     ]
    },
    {
     "name": "stdout",
     "output_type": "stream",
     "text": [
      "tensor([[97.,  1.],\n",
      "        [98.,  7.]])\n",
      "Precision [0.9897959  0.06666667]\tRecall [0.4974359 0.875    ]\n",
      "F1 [0.66211605 0.12389381]\n",
      "AUC 0.7489795918367348\tAcc 0.5123152732849121\tMean Loss 0.748028169457729\n",
      "prune ratio:0.600000\n"
     ]
    },
    {
     "name": "stderr",
     "output_type": "stream",
     "text": [
      "100%|██████████| 13/13 [00:17<00:00,  1.30s/it]\n",
      "  0%|          | 0/13 [00:00<?, ?it/s]"
     ]
    },
    {
     "name": "stdout",
     "output_type": "stream",
     "text": [
      "tensor([[ 97.,   1.],\n",
      "        [103.,   2.]])\n",
      "Precision [0.9897959  0.01904762]\tRecall [0.485     0.6666667]\n",
      "F1 [0.65100676 0.03703704]\n",
      "AUC 0.7470359572400389\tAcc 0.4876847267150879\tMean Loss 0.7867536063377674\n",
      "prune ratio:0.700000\n"
     ]
    },
    {
     "name": "stderr",
     "output_type": "stream",
     "text": [
      "100%|██████████| 13/13 [00:18<00:00,  1.18s/it]\n",
      "  0%|          | 0/13 [00:00<?, ?it/s]"
     ]
    },
    {
     "name": "stdout",
     "output_type": "stream",
     "text": [
      "tensor([[ 97.,   1.],\n",
      "        [104.,   1.]])\n",
      "Precision [0.9897959  0.00952381]\tRecall [0.48258707 0.5       ]\n",
      "F1 [0.6488294  0.01869159]\n",
      "AUC 0.7597667638483965\tAcc 0.48275861144065857\tMean Loss 0.7680348272507007\n",
      "prune ratio:0.800000\n"
     ]
    },
    {
     "name": "stderr",
     "output_type": "stream",
     "text": [
      "100%|██████████| 13/13 [00:17<00:00,  1.15s/it]\n",
      "/home/z7zeng/ECE228-final/COVID-Z/utils/metrics.py:25: RuntimeWarning: invalid value encountered in true_divide\n",
      "  return (2*precision*recall)/(precision+recall)\n",
      "  0%|          | 0/13 [00:00<?, ?it/s]"
     ]
    },
    {
     "name": "stdout",
     "output_type": "stream",
     "text": [
      "tensor([[ 97.,   1.],\n",
      "        [105.,   0.]])\n",
      "Precision [0.9897959 0.       ]\tRecall [0.48019803 0.        ]\n",
      "F1 [0.64666665        nan]\n",
      "AUC 0.7576287657920312\tAcc 0.47783252596855164\tMean Loss 0.77822015950313\n",
      "prune ratio:0.900000\n"
     ]
    },
    {
     "name": "stderr",
     "output_type": "stream",
     "text": [
      "100%|██████████| 13/13 [00:18<00:00,  1.25s/it]\n",
      "  0%|          | 0/13 [00:00<?, ?it/s]"
     ]
    },
    {
     "name": "stdout",
     "output_type": "stream",
     "text": [
      "tensor([[ 98.,   0.],\n",
      "        [105.,   0.]])\n",
      "Precision [1. 0.]\tRecall [0.4827586       nan]\n",
      "F1 [0.65116274        nan]\n",
      "AUC 0.7597667638483967\tAcc 0.48275861144065857\tMean Loss 0.8052929273018472\n",
      "prunnableConv2D(\n",
      "  (conv): Conv2d(1024, 256, kernel_size=(1, 1), stride=(1, 1), bias=False)\n",
      ")\n",
      "prune ratio:0.000000\n"
     ]
    },
    {
     "name": "stderr",
     "output_type": "stream",
     "text": [
      "100%|██████████| 13/13 [00:17<00:00,  1.13s/it]\n",
      "  0%|          | 0/13 [00:00<?, ?it/s]"
     ]
    },
    {
     "name": "stdout",
     "output_type": "stream",
     "text": [
      "tensor([[91.,  7.],\n",
      "        [68., 37.]])\n",
      "Precision [0.9285714  0.35238096]\tRecall [0.572327   0.84090906]\n",
      "F1 [0.70817125 0.49664432]\n",
      "AUC 0.7459669582118561\tAcc 0.6305418610572815\tMean Loss 0.6953537819477228\n",
      "prune ratio:0.100000\n"
     ]
    },
    {
     "name": "stderr",
     "output_type": "stream",
     "text": [
      "100%|██████████| 13/13 [00:17<00:00,  1.06s/it]\n",
      "  0%|          | 0/13 [00:00<?, ?it/s]"
     ]
    },
    {
     "name": "stdout",
     "output_type": "stream",
     "text": [
      "tensor([[97.,  1.],\n",
      "        [76., 29.]])\n",
      "Precision [0.9897959 0.2761905]\tRecall [0.5606936  0.96666664]\n",
      "F1 [0.7158671  0.42962965]\n",
      "AUC 0.7436345966958211\tAcc 0.6206896305084229\tMean Loss 0.721572947043639\n",
      "prune ratio:0.200000\n"
     ]
    },
    {
     "name": "stderr",
     "output_type": "stream",
     "text": [
      "100%|██████████| 13/13 [00:16<00:00,  1.17s/it]\n",
      "  0%|          | 0/13 [00:00<?, ?it/s]"
     ]
    },
    {
     "name": "stdout",
     "output_type": "stream",
     "text": [
      "tensor([[96.,  2.],\n",
      "        [86., 19.]])\n",
      "Precision [0.97959185 0.18095239]\tRecall [0.52747256 0.9047619 ]\n",
      "F1 [0.68571436 0.30158728]\n",
      "AUC 0.7443148688046648\tAcc 0.5665024518966675\tMean Loss 0.7311493525138268\n",
      "prune ratio:0.300000\n"
     ]
    },
    {
     "name": "stderr",
     "output_type": "stream",
     "text": [
      "100%|██████████| 13/13 [00:15<00:00,  1.16s/it]\n",
      "  0%|          | 0/13 [00:00<?, ?it/s]"
     ]
    },
    {
     "name": "stdout",
     "output_type": "stream",
     "text": [
      "tensor([[97.,  1.],\n",
      "        [90., 15.]])\n",
      "Precision [0.9897959  0.14285715]\tRecall [0.5187166 0.9375   ]\n",
      "F1 [0.6807018 0.2479339]\n",
      "AUC 0.7430515063168124\tAcc 0.5517241358757019\tMean Loss 0.7492471211231673\n",
      "prune ratio:0.400000\n"
     ]
    },
    {
     "name": "stderr",
     "output_type": "stream",
     "text": [
      "100%|██████████| 13/13 [00:16<00:00,  1.11s/it]\n",
      "  0%|          | 0/13 [00:00<?, ?it/s]"
     ]
    },
    {
     "name": "stdout",
     "output_type": "stream",
     "text": [
      "tensor([[97.,  1.],\n",
      "        [94., 11.]])\n",
      "Precision [0.9897959  0.10476191]\tRecall [0.5078534 0.9166667]\n",
      "F1 [0.6712803  0.18803419]\n",
      "AUC 0.7412050534499514\tAcc 0.5320196747779846\tMean Loss 0.7533133213336652\n",
      "prune ratio:0.500000\n"
     ]
    },
    {
     "name": "stderr",
     "output_type": "stream",
     "text": [
      "100%|██████████| 13/13 [00:16<00:00,  1.14s/it]\n",
      "  0%|          | 0/13 [00:00<?, ?it/s]"
     ]
    },
    {
     "name": "stdout",
     "output_type": "stream",
     "text": [
      "tensor([[ 97.,   1.],\n",
      "        [103.,   2.]])\n",
      "Precision [0.9897959  0.01904762]\tRecall [0.485     0.6666667]\n",
      "F1 [0.65100676 0.03703704]\n",
      "AUC 0.7387755102040815\tAcc 0.4876847267150879\tMean Loss 0.7823678667728718\n",
      "prune ratio:0.600000\n"
     ]
    },
    {
     "name": "stderr",
     "output_type": "stream",
     "text": [
      "100%|██████████| 13/13 [00:16<00:00,  1.07s/it]\n",
      "  0%|          | 0/13 [00:00<?, ?it/s]"
     ]
    },
    {
     "name": "stdout",
     "output_type": "stream",
     "text": [
      "tensor([[ 97.,   1.],\n",
      "        [104.,   1.]])\n",
      "Precision [0.9897959  0.00952381]\tRecall [0.48258707 0.5       ]\n",
      "F1 [0.6488294  0.01869159]\n",
      "AUC 0.7389698736637512\tAcc 0.48275861144065857\tMean Loss 0.8025014136846248\n",
      "prune ratio:0.700000\n"
     ]
    },
    {
     "name": "stderr",
     "output_type": "stream",
     "text": [
      "100%|██████████| 13/13 [00:17<00:00,  1.19s/it]\n",
      "  0%|          | 0/13 [00:00<?, ?it/s]"
     ]
    },
    {
     "name": "stdout",
     "output_type": "stream",
     "text": [
      "tensor([[ 98.,   0.],\n",
      "        [105.,   0.]])\n",
      "Precision [1. 0.]\tRecall [0.4827586       nan]\n",
      "F1 [0.65116274        nan]\n",
      "AUC 0.7350826044703596\tAcc 0.48275861144065857\tMean Loss 0.8229043632745743\n",
      "prune ratio:0.800000\n"
     ]
    },
    {
     "name": "stderr",
     "output_type": "stream",
     "text": [
      "100%|██████████| 13/13 [00:17<00:00,  1.22s/it]\n",
      "  0%|          | 0/13 [00:00<?, ?it/s]"
     ]
    },
    {
     "name": "stdout",
     "output_type": "stream",
     "text": [
      "tensor([[ 98.,   0.],\n",
      "        [105.,   0.]])\n",
      "Precision [1. 0.]\tRecall [0.4827586       nan]\n",
      "F1 [0.65116274        nan]\n",
      "AUC 0.7352769679300292\tAcc 0.48275861144065857\tMean Loss 0.8849753336264536\n",
      "prune ratio:0.900000\n"
     ]
    },
    {
     "name": "stderr",
     "output_type": "stream",
     "text": [
      "100%|██████████| 13/13 [00:16<00:00,  1.08s/it]\n",
      "  0%|          | 0/13 [00:00<?, ?it/s]"
     ]
    },
    {
     "name": "stdout",
     "output_type": "stream",
     "text": [
      "tensor([[ 98.,   0.],\n",
      "        [105.,   0.]])\n",
      "Precision [1. 0.]\tRecall [0.4827586       nan]\n",
      "F1 [0.65116274        nan]\n",
      "AUC 0.7343051506316813\tAcc 0.48275861144065857\tMean Loss 0.9252995722568951\n",
      "prunnableConv2D(\n",
      "  (conv): Conv2d(2048, 512, kernel_size=(1, 1), stride=(1, 1), bias=False)\n",
      ")\n",
      "prune ratio:0.000000\n"
     ]
    },
    {
     "name": "stderr",
     "output_type": "stream",
     "text": [
      "100%|██████████| 13/13 [00:17<00:00,  1.28s/it]\n",
      "  0%|          | 0/13 [00:00<?, ?it/s]"
     ]
    },
    {
     "name": "stdout",
     "output_type": "stream",
     "text": [
      "tensor([[91.,  7.],\n",
      "        [68., 37.]])\n",
      "Precision [0.9285714  0.35238096]\tRecall [0.572327   0.84090906]\n",
      "F1 [0.70817125 0.49664432]\n",
      "AUC 0.7459669582118561\tAcc 0.6305418610572815\tMean Loss 0.6953537819477228\n",
      "prune ratio:0.100000\n"
     ]
    },
    {
     "name": "stderr",
     "output_type": "stream",
     "text": [
      "100%|██████████| 13/13 [00:17<00:00,  1.22s/it]\n",
      "  0%|          | 0/13 [00:00<?, ?it/s]"
     ]
    },
    {
     "name": "stdout",
     "output_type": "stream",
     "text": [
      "tensor([[89.,  9.],\n",
      "        [62., 43.]])\n",
      "Precision [0.90816325 0.40952381]\tRecall [0.589404  0.8269231]\n",
      "F1 [0.7148595 0.5477707]\n",
      "AUC 0.7465500485908649\tAcc 0.6502463221549988\tMean Loss 0.675517969406568\n",
      "prune ratio:0.200000\n"
     ]
    },
    {
     "name": "stderr",
     "output_type": "stream",
     "text": [
      "100%|██████████| 13/13 [00:17<00:00,  1.09s/it]\n",
      "  0%|          | 0/13 [00:00<?, ?it/s]"
     ]
    },
    {
     "name": "stdout",
     "output_type": "stream",
     "text": [
      "tensor([[82., 16.],\n",
      "        [56., 49.]])\n",
      "Precision [0.8367347  0.46666667]\tRecall [0.5942029  0.75384617]\n",
      "F1 [0.6949153  0.57647055]\n",
      "AUC 0.7453838678328474\tAcc 0.6453201770782471\tMean Loss 0.6482581817186795\n",
      "prune ratio:0.300000\n"
     ]
    },
    {
     "name": "stderr",
     "output_type": "stream",
     "text": [
      "100%|██████████| 13/13 [00:19<00:00,  1.21s/it]\n",
      "  0%|          | 0/13 [00:00<?, ?it/s]"
     ]
    },
    {
     "name": "stdout",
     "output_type": "stream",
     "text": [
      "tensor([[83., 15.],\n",
      "        [57., 48.]])\n",
      "Precision [0.8469388  0.45714286]\tRecall [0.5928571 0.7619048]\n",
      "F1 [0.69747895 0.57142854]\n",
      "AUC 0.7451895043731779\tAcc 0.6453201770782471\tMean Loss 0.6488737372251658\n",
      "prune ratio:0.400000\n"
     ]
    },
    {
     "name": "stderr",
     "output_type": "stream",
     "text": [
      "100%|██████████| 13/13 [00:17<00:00,  1.09s/it]\n",
      "  0%|          | 0/13 [00:00<?, ?it/s]"
     ]
    },
    {
     "name": "stdout",
     "output_type": "stream",
     "text": [
      "tensor([[87., 11.],\n",
      "        [60., 45.]])\n",
      "Precision [0.8877551  0.42857143]\tRecall [0.59183675 0.8035714 ]\n",
      "F1 [0.71020406 0.5590062 ]\n",
      "AUC 0.745578231292517\tAcc 0.6502463221549988\tMean Loss 0.6626576643723708\n",
      "prune ratio:0.500000\n"
     ]
    },
    {
     "name": "stderr",
     "output_type": "stream",
     "text": [
      "100%|██████████| 13/13 [00:17<00:00,  1.16s/it]\n",
      "  0%|          | 0/13 [00:00<?, ?it/s]"
     ]
    },
    {
     "name": "stdout",
     "output_type": "stream",
     "text": [
      "tensor([[87., 11.],\n",
      "        [60., 45.]])\n",
      "Precision [0.8877551  0.42857143]\tRecall [0.59183675 0.8035714 ]\n",
      "F1 [0.71020406 0.5590062 ]\n",
      "AUC 0.7454810495626821\tAcc 0.6502463221549988\tMean Loss 0.6574020729615138\n",
      "prune ratio:0.600000\n"
     ]
    },
    {
     "name": "stderr",
     "output_type": "stream",
     "text": [
      "100%|██████████| 13/13 [00:17<00:00,  1.12s/it]\n",
      "  0%|          | 0/13 [00:00<?, ?it/s]"
     ]
    },
    {
     "name": "stdout",
     "output_type": "stream",
     "text": [
      "tensor([[89.,  9.],\n",
      "        [61., 44.]])\n",
      "Precision [0.90816325 0.41904762]\tRecall [0.5933333 0.8301887]\n",
      "F1 [0.7177419 0.556962 ]\n",
      "AUC 0.7451895043731779\tAcc 0.6551724076271057\tMean Loss 0.6647388430742117\n",
      "prune ratio:0.700000\n"
     ]
    },
    {
     "name": "stderr",
     "output_type": "stream",
     "text": [
      "100%|██████████| 13/13 [00:17<00:00,  1.26s/it]\n",
      "  0%|          | 0/13 [00:00<?, ?it/s]"
     ]
    },
    {
     "name": "stdout",
     "output_type": "stream",
     "text": [
      "tensor([[86., 12.],\n",
      "        [60., 45.]])\n",
      "Precision [0.877551   0.42857143]\tRecall [0.5890411 0.7894737]\n",
      "F1 [0.7049181 0.5555556]\n",
      "AUC 0.7442176870748299\tAcc 0.6453201770782471\tMean Loss 0.6550711393356323\n",
      "prune ratio:0.800000\n"
     ]
    },
    {
     "name": "stderr",
     "output_type": "stream",
     "text": [
      "100%|██████████| 13/13 [00:18<00:00,  1.21s/it]\n",
      "  0%|          | 0/13 [00:00<?, ?it/s]"
     ]
    },
    {
     "name": "stdout",
     "output_type": "stream",
     "text": [
      "tensor([[89.,  9.],\n",
      "        [62., 43.]])\n",
      "Precision [0.90816325 0.40952381]\tRecall [0.589404  0.8269231]\n",
      "F1 [0.7148595 0.5477707]\n",
      "AUC 0.7444120505344995\tAcc 0.6502463221549988\tMean Loss 0.6634239164682534\n",
      "prune ratio:0.900000\n"
     ]
    },
    {
     "name": "stderr",
     "output_type": "stream",
     "text": [
      "100%|██████████| 13/13 [00:18<00:00,  1.30s/it]\n",
      "  0%|          | 0/13 [00:00<?, ?it/s]"
     ]
    },
    {
     "name": "stdout",
     "output_type": "stream",
     "text": [
      "tensor([[80., 18.],\n",
      "        [55., 50.]])\n",
      "Precision [0.81632656 0.47619048]\tRecall [0.5925926 0.7352941]\n",
      "F1 [0.6866953 0.5780347]\n",
      "AUC 0.745578231292517\tAcc 0.6403940916061401\tMean Loss 0.6358933815589318\n",
      "prunnableLinear(\n",
      "  (linear): Linear(in_features=2048, out_features=2, bias=True)\n",
      ")\n",
      "prune ratio:0.000000\n"
     ]
    },
    {
     "name": "stderr",
     "output_type": "stream",
     "text": [
      "100%|██████████| 13/13 [00:17<00:00,  1.16s/it]\n",
      "  0%|          | 0/13 [00:00<?, ?it/s]"
     ]
    },
    {
     "name": "stdout",
     "output_type": "stream",
     "text": [
      "tensor([[91.,  7.],\n",
      "        [68., 37.]])\n",
      "Precision [0.9285714  0.35238096]\tRecall [0.572327   0.84090906]\n",
      "F1 [0.70817125 0.49664432]\n",
      "AUC 0.7459669582118561\tAcc 0.6305418610572815\tMean Loss 0.6953537819477228\n",
      "prune ratio:0.100000\n"
     ]
    },
    {
     "name": "stderr",
     "output_type": "stream",
     "text": [
      "100%|██████████| 13/13 [00:16<00:00,  1.09s/it]\n",
      "  0%|          | 0/13 [00:00<?, ?it/s]"
     ]
    },
    {
     "name": "stdout",
     "output_type": "stream",
     "text": [
      "tensor([[94.,  4.],\n",
      "        [72., 33.]])\n",
      "Precision [0.9591837  0.31428573]\tRecall [0.56626505 0.8918919 ]\n",
      "F1 [0.7121212  0.46478876]\n",
      "AUC 0.7431486880466472\tAcc 0.6256157755851746\tMean Loss 0.6936108779448729\n",
      "prune ratio:0.200000\n"
     ]
    },
    {
     "name": "stderr",
     "output_type": "stream",
     "text": [
      "100%|██████████| 13/13 [00:18<00:00,  1.20s/it]\n",
      "  0%|          | 0/13 [00:00<?, ?it/s]"
     ]
    },
    {
     "name": "stdout",
     "output_type": "stream",
     "text": [
      "tensor([[97.,  1.],\n",
      "        [86., 19.]])\n",
      "Precision [0.9897959  0.18095239]\tRecall [0.5300546 0.95     ]\n",
      "F1 [0.6903915 0.304    ]\n",
      "AUC 0.745092322643343\tAcc 0.5714285969734192\tMean Loss 0.7044838277193217\n",
      "prune ratio:0.300000\n"
     ]
    },
    {
     "name": "stderr",
     "output_type": "stream",
     "text": [
      "100%|██████████| 13/13 [00:20<00:00,  1.26s/it]\n",
      "  0%|          | 0/13 [00:00<?, ?it/s]"
     ]
    },
    {
     "name": "stdout",
     "output_type": "stream",
     "text": [
      "tensor([[97.,  1.],\n",
      "        [92., 13.]])\n",
      "Precision [0.9897959  0.12380952]\tRecall [0.5132275 0.9285714]\n",
      "F1 [0.6759583 0.2184874]\n",
      "AUC 0.7441205053449952\tAcc 0.5418719053268433\tMean Loss 0.7078682230069087\n",
      "prune ratio:0.400000\n"
     ]
    },
    {
     "name": "stderr",
     "output_type": "stream",
     "text": [
      "100%|██████████| 13/13 [00:17<00:00,  1.13s/it]\n",
      "  0%|          | 0/13 [00:00<?, ?it/s]"
     ]
    },
    {
     "name": "stdout",
     "output_type": "stream",
     "text": [
      "tensor([[ 97.,   1.],\n",
      "        [104.,   1.]])\n",
      "Precision [0.9897959  0.00952381]\tRecall [0.48258707 0.5       ]\n",
      "F1 [0.6488294  0.01869159]\n",
      "AUC 0.748396501457726\tAcc 0.48275861144065857\tMean Loss 0.7279928074433254\n",
      "prune ratio:0.500000\n"
     ]
    },
    {
     "name": "stderr",
     "output_type": "stream",
     "text": [
      "100%|██████████| 13/13 [00:18<00:00,  1.24s/it]\n",
      "  0%|          | 0/13 [00:00<?, ?it/s]"
     ]
    },
    {
     "name": "stdout",
     "output_type": "stream",
     "text": [
      "tensor([[95.,  3.],\n",
      "        [77., 28.]])\n",
      "Precision [0.96938777 0.26666668]\tRecall [0.5523256 0.9032258]\n",
      "F1 [0.7037037  0.41176474]\n",
      "AUC 0.7485908649173955\tAcc 0.6059113144874573\tMean Loss 0.665606248837251\n",
      "prune ratio:0.600000\n"
     ]
    },
    {
     "name": "stderr",
     "output_type": "stream",
     "text": [
      "100%|██████████| 13/13 [00:17<00:00,  1.22s/it]\n",
      "  0%|          | 0/13 [00:00<?, ?it/s]"
     ]
    },
    {
     "name": "stdout",
     "output_type": "stream",
     "text": [
      "tensor([[63., 35.],\n",
      "        [27., 78.]])\n",
      "Precision [0.64285713 0.74285716]\tRecall [0.7       0.6902655]\n",
      "F1 [0.67021275 0.7155963 ]\n",
      "AUC 0.7447035957240038\tAcc 0.6945812702178955\tMean Loss 0.6335609922042259\n",
      "prune ratio:0.700000\n"
     ]
    },
    {
     "name": "stderr",
     "output_type": "stream",
     "text": [
      "100%|██████████| 13/13 [00:18<00:00,  1.16s/it]\n",
      "  0%|          | 0/13 [00:00<?, ?it/s]"
     ]
    },
    {
     "name": "stdout",
     "output_type": "stream",
     "text": [
      "tensor([[88., 10.],\n",
      "        [60., 45.]])\n",
      "Precision [0.8979592  0.42857143]\tRecall [0.5945946 0.8181818]\n",
      "F1 [0.7154472 0.5625   ]\n",
      "AUC 0.7527696793002916\tAcc 0.6551724076271057\tMean Loss 0.6574555635452272\n",
      "prune ratio:0.800000\n"
     ]
    },
    {
     "name": "stderr",
     "output_type": "stream",
     "text": [
      "100%|██████████| 13/13 [00:15<00:00,  1.14s/it]\n",
      "  0%|          | 0/13 [00:00<?, ?it/s]"
     ]
    },
    {
     "name": "stdout",
     "output_type": "stream",
     "text": [
      "tensor([[78., 20.],\n",
      "        [51., 54.]])\n",
      "Precision [0.79591835 0.51428574]\tRecall [0.60465115 0.7297297 ]\n",
      "F1 [0.6872247  0.60335195]\n",
      "AUC 0.7410106899902819\tAcc 0.6502463221549988\tMean Loss 0.6656739299113934\n",
      "prune ratio:0.900000\n"
     ]
    },
    {
     "name": "stderr",
     "output_type": "stream",
     "text": [
      "100%|██████████| 13/13 [00:17<00:00,  1.20s/it]"
     ]
    },
    {
     "name": "stdout",
     "output_type": "stream",
     "text": [
      "tensor([[  2.,  96.],\n",
      "        [  4., 101.]])\n",
      "Precision [0.02040816 0.96190476]\tRecall [0.33333334 0.51269037]\n",
      "F1 [0.03846154 0.6688742 ]\n",
      "AUC 0.6804664723032071\tAcc 0.5073891878128052\tMean Loss 0.6798084515791672\n"
     ]
    },
    {
     "name": "stderr",
     "output_type": "stream",
     "text": [
      "\n"
     ]
    }
   ],
   "source": [
    "\n",
    "ratios=[i/100 for i in range(0,91,10)]\n",
    "yconvACC,yconvFN=[],[]\n",
    "ydenseACC,ydenseFN=[],[]\n",
    "cntConv=-1\n",
    "for m in model.modules():\n",
    "    yACC=[]\n",
    "    yFN=[]\n",
    "    if isinstance(m, (prunnableConv2D,prunnableLinear)):\n",
    "        if isinstance(m,prunnableConv2D):\n",
    "            cntConv+=1\n",
    "            if cntConv%10!=0:continue\n",
    "        print(m) \n",
    "        for r in ratios:\n",
    "            m.setPruneRatio(r)\n",
    "            print('prune ratio:%f'%r)\n",
    "            AUC, precision, recall, f1, acc, mean_loss = test(model, 2, test_loader, device)\n",
    "            print('Precision {}\\tRecall {}\\nF1 {}\\nAUC {}\\tAcc {}\\tMean Loss {}'.format(precision, recall, f1, AUC, acc,\n",
    "                                                                            mean_loss))\n",
    "            yACC.append(acc.numpy().tolist())\n",
    "            yFN.append(recall[1])\n",
    "            m.resetPruneRatio()\n",
    "    if isinstance(m,prunnableConv2D):\n",
    "        yconvACC.append(yACC.copy())\n",
    "        yconvFN.append(yFN.copy())\n",
    "    elif isinstance(m,prunnableLinear):\n",
    "        ydenseACC.append(yACC.copy())\n",
    "        ydenseFN.append(yFN.copy())"
   ]
  },
  {
   "cell_type": "code",
   "execution_count": 7,
   "metadata": {},
   "outputs": [],
   "source": [
    "np.save('yconvACC.npy', yconvACC)\n",
    "np.save('yconvFN.npy', yconvFN)\n",
    "np.save('ydenseACC.npy', ydenseACC)\n",
    "np.save('ydenseFN.npy', ydenseFN)\n",
    "yconvACC_bak,yconvFN_bak=yconvACC.copy(),yconvFN.copy()\n",
    "ydenseACC_bak,ydenseFN_bak=ydenseACC.copy(),ydenseFN.copy()"
   ]
  },
  {
   "cell_type": "code",
   "execution_count": 10,
   "metadata": {},
   "outputs": [
    {
     "data": {
      "image/png": "[encoded data removed]",
      "text/plain": [
       "<Figure size 432x288 with 2 Axes>"
      ]
     },
     "metadata": {
      "needs_background": "light"
     },
     "output_type": "display_data"
    }
   ],
   "source": [
    "\n",
    "# for i in range(8):\n",
    "#     if yacc[i]==np.nan:yacc[i]=0\n",
    "#     if yFNs[i]==np.nan:yFNs[i]=0\n",
    "\n",
    "plt.subplot(2,2,1)\n",
    "for yACC in yconvACC:\n",
    "    plt.plot(ratios, yACC)\n",
    "plt.legend([\"conv\"+str(i*10) for i in range(1,)], loc='lower right')\n",
    "plt.subplot(2,2,2)\n",
    "for yFN in yconvFN:\n",
    "    plt.plot(ratios, yFN)\n",
    "\n",
    "# plt.subplot(2,2,3)\n",
    "# for yACC in ydenseACC:\n",
    "#     plt.subplot(ratios,yACC)\n",
    "# plt.subplot(2,2,4)\n",
    "# for yFN in ydenseFN:\n",
    "#     plt.subplot(ratios,yFN)\n",
    "\n",
    "\n",
    "plt.show()\n",
    "\n",
    "# plt.show()"
   ]
  },
  {
   "cell_type": "code",
   "execution_count": null,
   "metadata": {},
   "outputs": [],
   "source": []
  }
 ],
 "metadata": {
  "kernelspec": {
   "display_name": "Python 3",
   "language": "python",
   "name": "python3"
  },
  "language_info": {
   "codemirror_mode": {
    "name": "ipython",
    "version": 3
   },
   "file_extension": ".py",
   "mimetype": "text/x-python",
   "name": "python",
   "nbconvert_exporter": "python",
   "pygments_lexer": "ipython3",
   "version": "3.7.3"
  },
  "varInspector": {
   "cols": {
    "lenName": 16,
    "lenType": 16,
    "lenVar": 40
   },
   "kernels_config": {
    "python": {
     "delete_cmd_postfix": "",
     "delete_cmd_prefix": "del ",
     "library": "var_list.py",
     "varRefreshCmd": "print(var_dic_list())"
    },
    "r": {
     "delete_cmd_postfix": ") ",
     "delete_cmd_prefix": "rm(",
     "library": "var_list.r",
     "varRefreshCmd": "cat(var_dic_list()) "
    }
   },
   "position": {
    "height": "635px",
    "left": "1554px",
    "right": "20px",
    "top": "120px",
    "width": "281px"
   },
   "types_to_exclude": [
    "module",
    "function",
    "builtin_function_or_method",
    "instance",
    "_Feature"
   ],
   "window_display": true
  }
 },
 "nbformat": 4,
 "nbformat_minor": 2
}
