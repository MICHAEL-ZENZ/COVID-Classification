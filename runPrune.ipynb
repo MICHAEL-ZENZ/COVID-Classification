{
 "cells": [
  {
   "cell_type": "code",
   "execution_count": 1,
   "metadata": {},
   "outputs": [
    {
     "name": "stdout",
     "output_type": "stream",
     "text": [
      "Device cuda\n",
      "resnet50 ['CT_COVID', 'CT_NonCOVID']\n",
      "...........Testing..........\n"
     ]
    }
   ],
   "source": [
    "from model import Densenet, Inceptionv3, ResNet, VGG, SimpleCNN, Efficientnet, ResNeSt, Ensemble,SeResNet, Deeplabv3\n",
    "from model import prunnableResNet\n",
    "from model.layer.prunableLayer import prunnableConv2D,prunnableLinear\n",
    "from utils import CovidCTDataset,metrics, SimCLR_loss, LabelSmoothSoftmaxCE\n",
    "from utils import autoaugment as auto\n",
    "from torch.utils.data import DataLoader\n",
    "import argparse\n",
    "import torch\n",
    "import torch.nn.functional as F\n",
    "from tqdm import tqdm\n",
    "import time\n",
    "import torch.nn as nn\n",
    "import os\n",
    "import random\n",
    "from torchvision import transforms\n",
    "import numpy as np\n",
    "from sklearn.metrics import roc_auc_score\n",
    "\n",
    "from collections import OrderedDict\n",
    "import matplotlib.pyplot as plt\n",
    "import easydict\n",
    "\n",
    "import gc\n",
    "\n",
    "MODEL_DICT = {\n",
    "    'densenet121': Densenet.densenet121,\n",
    "    'densenet161': Densenet.densenet161,\n",
    "    'densenet169': Densenet.densenet169,\n",
    "    'densenet201': Densenet.densenet201,\n",
    "    'resnet18': ResNet.resnet18,\n",
    "    'resnet50': ResNet.resnet50,\n",
    "    'resnet101': ResNet.resnet101,\n",
    "    'resnet152': ResNet.resnet152,\n",
    "    'seresnet50': SeResNet.se_resnet50,\n",
    "    'seresnet101': SeResNet.se_resnet101,\n",
    "    'seresnet152': SeResNet.se_resnet152,\n",
    "    'resnext101': ResNet.resnext101_32x8d,\n",
    "    'resnest50': ResNeSt.resnest50,\n",
    "    'resnest200': ResNeSt.resnest200,\n",
    "    'wide_resnet101': ResNet.wide_resnet101_2,\n",
    "    'wide_resnet50': ResNet.wide_resnet50_2,\n",
    "    'vgg16': VGG.vgg16,\n",
    "    'CNN': SimpleCNN.CNN,\n",
    "    'Linear': SimpleCNN.Linear,\n",
    "    'SimpleCNN': SimpleCNN.SimpleCNN,\n",
    "    'efficientnet-b7': Efficientnet.efficientnetb7,\n",
    "    'efficientnet-b1': Efficientnet.efficientnetb1,\n",
    "    'efficientnet-b0': Efficientnet.efficientnetb0\n",
    "}\n",
    "\n",
    "PRUNNABLE_MODEL_DICT={\n",
    "    'resnet18':prunnableResNet.resnet18,\n",
    "    'resnet50':prunnableResNet.resnet50,\n",
    "    'resnet101':prunnableResNet.resnet101,\n",
    "    'resnet152':prunnableResNet.resnet152\n",
    "}\n",
    "\n",
    "def train(model, train_loader, optimizer, PRINT_INTERVAL, epoch, args, device):\n",
    "    model.train()\n",
    "    # LOSS_FUNC = LabelSmoothSoftmaxCE()\n",
    "    LOSS_FUNC = nn.CrossEntropyLoss()\n",
    "    for index, batch in enumerate(tqdm(train_loader)):\n",
    "        img, label = batch['img'].to(device), batch['label'].to(device)\n",
    "        output = model(img)\n",
    "        optimizer.zero_grad()\n",
    "        loss = LOSS_FUNC(output, label)\n",
    "        loss.backward()\n",
    "        optimizer.step()\n",
    "        if (index + 1) % PRINT_INTERVAL == 0:\n",
    "            tqdm.write('Epoch [%d/%d], Iter [%d/%d], Loss: %.4f'\n",
    "                       % (epoch + 1, args.epoch, index + 1, len(train_loader), loss.item()))\n",
    "\n",
    "def test(model, nb_classes, test_loader, device):\n",
    "    model.eval()\n",
    "    predlist = []\n",
    "    targetlist = []\n",
    "    confusion_matrix = torch.zeros(nb_classes, nb_classes)\n",
    "    avg_val_loss = 0\n",
    "    with torch.no_grad():\n",
    "        for index, batch in enumerate(tqdm(test_loader)):\n",
    "            img, label = batch['img'].to(device), batch['label'].to(device)\n",
    "            output = model(img)\n",
    "            _, preds = torch.max(output, 1)\n",
    "            avg_val_loss += F.cross_entropy(output, label).item()/len(test_loader)\n",
    "            for t, p in zip(label.view(-1), preds.view(-1)):\n",
    "                confusion_matrix[t.long(), p.long()] += 1\n",
    "            y_score = F.softmax(output, dim=1)\n",
    "            predlist = np.append(predlist, y_score.cpu().numpy()[:, 1])\n",
    "            targetlist = np.append(targetlist, label.long().cpu().numpy())\n",
    "\n",
    "    AUC = roc_auc_score(targetlist, predlist)\n",
    "    print(confusion_matrix)\n",
    "    precision = metrics.Precision(confusion_matrix.cpu().numpy(), nb_classes)\n",
    "    recall = metrics.Recall(confusion_matrix, nb_classes)\n",
    "    f1 = metrics.f1_score(precision, recall)\n",
    "    acc = metrics.Acc(confusion_matrix,nb_classes)\n",
    "\n",
    "    return AUC, precision, recall, f1, acc, avg_val_loss\n",
    "\n",
    "def test_mask(model, nb_classes, test_loader, device):\n",
    "    model.eval()\n",
    "    predlist = []\n",
    "    targetlist = []\n",
    "    confusion_matrix = torch.zeros(nb_classes, nb_classes)\n",
    "    avg_val_loss = 0\n",
    "    with torch.no_grad():\n",
    "        for index, batch in enumerate(tqdm(test_loader)):\n",
    "            img, label = batch['img'].to(device), batch['label'].to(device)\n",
    "            cls_pred, mask_pred = model(img)\n",
    "            _, preds = torch.max(cls_pred, 1)\n",
    "\n",
    "            avg_val_loss += F.cross_entropy(cls_pred, label).item()/len(test_loader)\n",
    "            for t, p in zip(label.view(-1), preds.view(-1)):\n",
    "                confusion_matrix[t.long(), p.long()] += 1\n",
    "            y_score = F.softmax(cls_pred, dim=1)\n",
    "            predlist = np.append(predlist, y_score.cpu().numpy()[:, 1])\n",
    "            targetlist = np.append(targetlist, label.long().cpu().numpy())\n",
    "\n",
    "    AUC = roc_auc_score(targetlist, predlist)\n",
    "    print(confusion_matrix)\n",
    "    precision = metrics.Precision(confusion_matrix.cpu().numpy(), nb_classes)\n",
    "    recall = metrics.Recall(confusion_matrix, nb_classes)\n",
    "    f1 = metrics.f1_score(precision, recall)\n",
    "    acc = metrics.Acc(confusion_matrix,nb_classes)\n",
    "\n",
    "    return AUC, precision, recall, f1, acc, avg_val_loss\n",
    "\n",
    "def convertPaWeights2NonP(pretrained_state_dict):\n",
    "  nonpStateDict=OrderedDict()\n",
    "  for k, v in pretrained_state_dict.items():\n",
    "    nonpStateDict[k[7:]]=v\n",
    "  return nonpStateDict\n",
    "\n",
    "def convertStateDict2Prunnable(state_dict):\n",
    "    prunedStateDict=OrderedDict()\n",
    "    for k, v in state_dict.items():\n",
    "        if 'conv' in k or 'downsample.0' in k:\n",
    "            p=k.find('.weight')\n",
    "            k=k[:p]+'.conv'+k[p:]\n",
    "        elif 'fc' in k:\n",
    "            p=k.find('fc')\n",
    "            k=k[:p+3]+'linear.'+k[p+3:]\n",
    "            \n",
    "\n",
    "        prunedStateDict[k]=v\n",
    "    return prunedStateDict\n",
    "\n",
    "models_config = (\n",
    "    # model name, model path, weight, data_parallel\n",
    "    ('resnet152', 'resnet152_4_4_crop_480_b16_pretrained.pt', 1, True),\n",
    "    ('resnet152', 'resnet152_4_4_crop_480_b16w1.2_pretrained.pt', 1, True),\n",
    "    ('resnext101', 'resnext101_4_4_crop_480_pretrained.pt', 1, True),\n",
    "    ('densenet169', 'densenet169-480-moco-soft-COVID.pt', 1, True),\n",
    "    ('densenet169', 'densenet169_4_4_crop_480_b16_pretrained.pt', 1, True),\n",
    "    ('densenet169', 'densenet169_soft_480_pretrained.pt', 1, True),\n",
    ")\n",
    "\n",
    "args = easydict.EasyDict({\n",
    "    'model_name':'resnet50',\n",
    "    'checkpoint_path':'./checkpoint/CT',\n",
    "    'batch_size':16,\n",
    "    'lr':1e-4,\n",
    "    'epoch':50,\n",
    "    'root_dir':'./COVID-CT/Images-processed',\n",
    "\n",
    "    'train_COV':'./COVID-CT/Data-split/COVID/trainCT_COVID.txt',\n",
    "    'train_NonCOV':'./COVID-CT/Data-split/NonCOVID/trainCT_NonCOVID.txt',\n",
    "\n",
    "    'val_COV':'./COVID-CT/Data-split/COVID/valCT_COVID.txt',\n",
    "    'val_NonCOV':'./COVID-CT/Data-split/NonCOVID/valCT_NonCOVID.txt',\n",
    "\n",
    "    'test_COV':'./COVID-CT/Data-split/COVID/testCT_COVID.txt',\n",
    "    'test_NonCOV':'./COVID-CT/Data-split/NonCOVID/testCT_NonCOVID.txt',\n",
    "\n",
    "    'pretrained':True,\n",
    "    'save_name':'resnet50_pretrained.pt'\n",
    "})\n",
    "\n",
    "device = torch.device(\"cuda\" if torch.cuda.is_available() else \"cpu\")\n",
    "print(\"Device {}\".format(device))\n",
    "# Create checkpoint file\n",
    "save_path = os.path.join(args.checkpoint_path, args.model_name)\n",
    "if os.path.exists(save_path) == False:\n",
    "    os.makedirs(save_path)\n",
    "\n",
    "normalize = transforms.Normalize(mean=[0.45271412, 0.45271412, 0.45271412],\n",
    "                                    std=[0.33165374, 0.33165374, 0.33165374])\n",
    "test_trans = transforms.Compose(\n",
    "                                [\n",
    "                                transforms.Resize((480,480)),\n",
    "                                transforms.ToTensor(),\n",
    "                                normalize\n",
    "                                ]\n",
    "                            )\n",
    "trainset = CovidCTDataset(root_dir=args.root_dir,\n",
    "                            txt_COVID=args.train_COV,\n",
    "                            txt_NonCOVID=args.train_NonCOV,\n",
    "                            transform=transforms.Compose(\n",
    "                                [transforms.RandomResizedCrop((480,480),scale=(0.8,1.2)),\n",
    "                                    transforms.RandomHorizontalFlip(),\n",
    "                                    auto.ImageNetPolicy(),\n",
    "                                    transforms.ToTensor(),\n",
    "                                    normalize\n",
    "                                    ]\n",
    "                            ))\n",
    "valset = CovidCTDataset(root_dir=args.root_dir,\n",
    "                        txt_COVID=args.val_COV,\n",
    "                        txt_NonCOVID=args.val_NonCOV,\n",
    "                            transform=test_trans\n",
    "                            )\n",
    "\n",
    "testset = CovidCTDataset(root_dir=args.root_dir,\n",
    "                            txt_COVID=args.test_COV,\n",
    "                            txt_NonCOVID=args.test_NonCOV,\n",
    "                            transform=test_trans\n",
    "                            )\n",
    "\n",
    "train_loader = DataLoader(trainset,\n",
    "                            batch_size=args.batch_size,\n",
    "                            num_workers=8,\n",
    "                            shuffle=True)\n",
    "val_loader = DataLoader(valset, batch_size=args.batch_size)\n",
    "test_loader = DataLoader(testset,batch_size=args.batch_size)\n",
    "\n",
    "PRINT_INTERVAL = 10\n",
    "nb_classes = 2\n",
    "seg_num_class = 2\n",
    "print(args.model_name,trainset.classes)\n",
    "\n",
    "model = PRUNNABLE_MODEL_DICT[args.model_name](num_classes=nb_classes, pretrained=args.pretrained)\n",
    "\n",
    "accs = []\n",
    "save = os.path.join(save_path,'{}'.format(args.save_name))\n",
    "\n",
    "print('...........Testing..........')\n",
    "pretrained_state_dict=torch.load(save, map_location=torch.device('cpu'))\n",
    "pretrained_state_dict=convertPaWeights2NonP(pretrained_state_dict)\n",
    "model.load_state_dict(convertStateDict2Prunnable(pretrained_state_dict))\n",
    "\n",
    "if torch.cuda.device_count() > 1:\n",
    "    print(\"Let's use\", torch.cuda.device_count(), \"GPUs!\")\n",
    "    # dim = 0 [30, xxx] -> [10, ...], [10, ...], [10, ...] on 3 GPUs\n",
    "    model = nn.DataParallel(model).to(device)\n",
    "elif torch.cuda.device_count() == 1:\n",
    "    model.to(device)\n",
    "elif torch.cuda.is_available():\n",
    "    print(\"GPU detected but cannot use\")\n"
   ]
  },
  {
   "cell_type": "code",
   "execution_count": 2,
   "metadata": {},
   "outputs": [
    {
     "name": "stdout",
     "output_type": "stream",
     "text": [
      "In total 53 conv, 1 dense\n"
     ]
    }
   ],
   "source": [
    "cntConv=0\n",
    "cntDense=0\n",
    "\n",
    "for m in model.modules():\n",
    "    if isinstance(m, prunnableConv2D):\n",
    "        cntConv+=1\n",
    "    elif isinstance(m, prunnableLinear):\n",
    "        cntDense+=1\n",
    "print(\"In total %d conv, %d dense\"%(cntConv,cntDense))"
   ]
  },
  {
   "cell_type": "code",
   "execution_count": 3,
   "metadata": {},
   "outputs": [
    {
     "name": "stderr",
     "output_type": "stream",
     "text": [
      "\r",
      "  0%|          | 0/13 [00:00<?, ?it/s]"
     ]
    },
    {
     "name": "stdout",
     "output_type": "stream",
     "text": [
      "prunnableConv2D(\n",
      "  (conv): Conv2d(3, 64, kernel_size=(7, 7), stride=(2, 2), padding=(3, 3), bias=False)\n",
      ")\n",
      "prune ratio:0.000000\n"
     ]
    },
    {
     "name": "stderr",
     "output_type": "stream",
     "text": [
      "100%|██████████| 13/13 [00:18<00:00,  1.39s/it]\n",
      "  0%|          | 0/13 [00:00<?, ?it/s]"
     ]
    },
    {
     "name": "stdout",
     "output_type": "stream",
     "text": [
      "tensor([[91.,  7.],\n",
      "        [68., 37.]])\n",
      "Precision [0.9285714  0.35238096]\tRecall [0.572327   0.84090906]\n",
      "F1 [0.70817125 0.49664432]\n",
      "AUC 0.7459669582118561\tAcc 0.6305418610572815\tMean Loss 0.6953537819477228\n",
      "prune ratio:0.100000\n"
     ]
    },
    {
     "name": "stderr",
     "output_type": "stream",
     "text": [
      "100%|██████████| 13/13 [00:17<00:00,  1.26s/it]\n",
      "  0%|          | 0/13 [00:00<?, ?it/s]"
     ]
    },
    {
     "name": "stdout",
     "output_type": "stream",
     "text": [
      "tensor([[77., 21.],\n",
      "        [40., 65.]])\n",
      "Precision [0.78571427 0.61904764]\tRecall [0.6581197  0.75581396]\n",
      "F1 [0.7162791 0.6806283]\n",
      "AUC 0.7430515063168125\tAcc 0.6995074152946472\tMean Loss 0.650707240288074\n",
      "prune ratio:0.200000\n"
     ]
    },
    {
     "name": "stderr",
     "output_type": "stream",
     "text": [
      "100%|██████████| 13/13 [00:16<00:00,  1.01s/it]\n",
      "  0%|          | 0/13 [00:00<?, ?it/s]"
     ]
    },
    {
     "name": "stdout",
     "output_type": "stream",
     "text": [
      "tensor([[82., 16.],\n",
      "        [52., 53.]])\n",
      "Precision [0.8367347  0.50476193]\tRecall [0.6119403  0.76811594]\n",
      "F1 [0.7068966 0.6091954]\n",
      "AUC 0.7498542274052478\tAcc 0.6650246381759644\tMean Loss 0.6395644728954022\n",
      "prune ratio:0.300000\n"
     ]
    },
    {
     "name": "stderr",
     "output_type": "stream",
     "text": [
      "100%|██████████| 13/13 [00:16<00:00,  1.15s/it]\n",
      "  0%|          | 0/13 [00:00<?, ?it/s]"
     ]
    },
    {
     "name": "stdout",
     "output_type": "stream",
     "text": [
      "tensor([[70., 28.],\n",
      "        [33., 72.]])\n",
      "Precision [0.71428573 0.6857143 ]\tRecall [0.6796116 0.72     ]\n",
      "F1 [0.69651747 0.70243907]\n",
      "AUC 0.7334305150631683\tAcc 0.6995074152946472\tMean Loss 0.6456993245161496\n",
      "prune ratio:0.400000\n"
     ]
    },
    {
     "name": "stderr",
     "output_type": "stream",
     "text": [
      "100%|██████████| 13/13 [00:18<00:00,  1.22s/it]\n",
      "  0%|          | 0/13 [00:00<?, ?it/s]"
     ]
    },
    {
     "name": "stdout",
     "output_type": "stream",
     "text": [
      "tensor([[96.,  2.],\n",
      "        [93., 12.]])\n",
      "Precision [0.97959185 0.11428571]\tRecall [0.50793654 0.85714287]\n",
      "F1 [0.6689896  0.20168068]\n",
      "AUC 0.7247813411078717\tAcc 0.5320196747779846\tMean Loss 0.7056529315618368\n",
      "prune ratio:0.500000\n"
     ]
    },
    {
     "name": "stderr",
     "output_type": "stream",
     "text": [
      "100%|██████████| 13/13 [00:16<00:00,  1.13s/it]\n",
      "  0%|          | 0/13 [00:00<?, ?it/s]"
     ]
    },
    {
     "name": "stdout",
     "output_type": "stream",
     "text": [
      "tensor([[90.,  8.],\n",
      "        [67., 38.]])\n",
      "Precision [0.9183673  0.36190477]\tRecall [0.5732484  0.82608694]\n",
      "F1 [0.7058823 0.5033112]\n",
      "AUC 0.7766763848396502\tAcc 0.6305418610572815\tMean Loss 0.6506233467505528\n",
      "prune ratio:0.600000\n"
     ]
    },
    {
     "name": "stderr",
     "output_type": "stream",
     "text": [
      "100%|██████████| 13/13 [00:17<00:00,  1.14s/it]\n",
      "  0%|          | 0/13 [00:00<?, ?it/s]"
     ]
    },
    {
     "name": "stdout",
     "output_type": "stream",
     "text": [
      "tensor([[ 98.,   0.],\n",
      "        [102.,   3.]])\n",
      "Precision [1.         0.02857143]\tRecall [0.49 1.  ]\n",
      "F1 [0.6577181  0.05555555]\n",
      "AUC 0.7620991253644315\tAcc 0.49753695726394653\tMean Loss 0.7061052459936876\n",
      "prune ratio:0.700000\n"
     ]
    },
    {
     "name": "stderr",
     "output_type": "stream",
     "text": [
      "100%|██████████| 13/13 [00:17<00:00,  1.35s/it]\n",
      "  0%|          | 0/13 [00:00<?, ?it/s]"
     ]
    },
    {
     "name": "stdout",
     "output_type": "stream",
     "text": [
      "tensor([[ 97.,   1.],\n",
      "        [103.,   2.]])\n",
      "Precision [0.9897959  0.01904762]\tRecall [0.485     0.6666667]\n",
      "F1 [0.65100676 0.03703704]\n",
      "AUC 0.7707482993197279\tAcc 0.4876847267150879\tMean Loss 0.6765875839270078\n",
      "prune ratio:0.800000\n"
     ]
    },
    {
     "name": "stderr",
     "output_type": "stream",
     "text": [
      "100%|██████████| 13/13 [00:17<00:00,  1.09s/it]\n",
      "/home/z7zeng/ECE228-final/COVID-Z/utils/metrics.py:25: RuntimeWarning: invalid value encountered in true_divide\n",
      "  return (2*precision*recall)/(precision+recall)\n",
      "  0%|          | 0/13 [00:00<?, ?it/s]"
     ]
    },
    {
     "name": "stdout",
     "output_type": "stream",
     "text": [
      "tensor([[ 97.,   1.],\n",
      "        [105.,   0.]])\n",
      "Precision [0.9897959 0.       ]\tRecall [0.48019803 0.        ]\n",
      "F1 [0.64666665        nan]\n",
      "AUC 0.8124392614188531\tAcc 0.47783252596855164\tMean Loss 0.691039727284358\n",
      "prune ratio:0.900000\n"
     ]
    },
    {
     "name": "stderr",
     "output_type": "stream",
     "text": [
      "100%|██████████| 13/13 [00:17<00:00,  1.21s/it]\n",
      "  0%|          | 0/13 [00:00<?, ?it/s]"
     ]
    },
    {
     "name": "stdout",
     "output_type": "stream",
     "text": [
      "tensor([[ 98.,   0.],\n",
      "        [103.,   2.]])\n",
      "Precision [1.         0.01904762]\tRecall [0.48756218 1.        ]\n",
      "F1 [0.6555184  0.03738318]\n",
      "AUC 0.8012633624878523\tAcc 0.4926108419895172\tMean Loss 0.6781329535520992\n",
      "prunnableConv2D(\n",
      "  (conv): Conv2d(64, 256, kernel_size=(1, 1), stride=(1, 1), bias=False)\n",
      ")\n",
      "prune ratio:0.000000\n"
     ]
    },
    {
     "name": "stderr",
     "output_type": "stream",
     "text": [
      "100%|██████████| 13/13 [00:18<00:00,  1.27s/it]\n",
      "  0%|          | 0/13 [00:00<?, ?it/s]"
     ]
    },
    {
     "name": "stdout",
     "output_type": "stream",
     "text": [
      "tensor([[ 98.,   0.],\n",
      "        [103.,   2.]])\n",
      "Precision [1.         0.01904762]\tRecall [0.48756218 1.        ]\n",
      "F1 [0.6555184  0.03738318]\n",
      "AUC 0.8012633624878523\tAcc 0.4926108419895172\tMean Loss 0.6781329535520992\n",
      "prune ratio:0.100000\n"
     ]
    },
    {
     "name": "stderr",
     "output_type": "stream",
     "text": [
      "100%|██████████| 13/13 [00:18<00:00,  1.34s/it]\n",
      "  0%|          | 0/13 [00:00<?, ?it/s]"
     ]
    },
    {
     "name": "stdout",
     "output_type": "stream",
     "text": [
      "tensor([[95.,  3.],\n",
      "        [92., 13.]])\n",
      "Precision [0.96938777 0.12380952]\tRecall [0.5080214 0.8125   ]\n",
      "F1 [0.66666675 0.21487603]\n",
      "AUC 0.7600583090379008\tAcc 0.5320196747779846\tMean Loss 0.6732375025749208\n",
      "prune ratio:0.200000\n"
     ]
    },
    {
     "name": "stderr",
     "output_type": "stream",
     "text": [
      "100%|██████████| 13/13 [00:16<00:00,  1.22s/it]\n",
      "  0%|          | 0/13 [00:00<?, ?it/s]"
     ]
    },
    {
     "name": "stdout",
     "output_type": "stream",
     "text": [
      "tensor([[ 97.,   1.],\n",
      "        [100.,   5.]])\n",
      "Precision [0.9897959  0.04761905]\tRecall [0.49238577 0.8333333 ]\n",
      "F1 [0.6576271 0.0900901]\n",
      "AUC 0.7127308066083576\tAcc 0.5024630427360535\tMean Loss 0.691141969882525\n",
      "prune ratio:0.300000\n"
     ]
    },
    {
     "name": "stderr",
     "output_type": "stream",
     "text": [
      "100%|██████████| 13/13 [00:15<00:00,  1.05s/it]\n",
      "  0%|          | 0/13 [00:00<?, ?it/s]"
     ]
    },
    {
     "name": "stdout",
     "output_type": "stream",
     "text": [
      "tensor([[96.,  2.],\n",
      "        [84., 21.]])\n",
      "Precision [0.97959185 0.2       ]\tRecall [0.53333336 0.9130435 ]\n",
      "F1 [0.69064754 0.328125  ]\n",
      "AUC 0.7531584062196306\tAcc 0.5763546824455261\tMean Loss 0.6712489403211153\n",
      "prune ratio:0.400000\n"
     ]
    },
    {
     "name": "stderr",
     "output_type": "stream",
     "text": [
      "100%|██████████| 13/13 [00:15<00:00,  1.05s/it]\n",
      "  0%|          | 0/13 [00:00<?, ?it/s]"
     ]
    },
    {
     "name": "stdout",
     "output_type": "stream",
     "text": [
      "tensor([[91.,  7.],\n",
      "        [72., 33.]])\n",
      "Precision [0.9285714  0.31428573]\tRecall [0.5582822 0.825    ]\n",
      "F1 [0.697318   0.45517242]\n",
      "AUC 0.7675413022351798\tAcc 0.610837459564209\tMean Loss 0.6611229181289673\n",
      "prune ratio:0.500000\n"
     ]
    },
    {
     "name": "stderr",
     "output_type": "stream",
     "text": [
      "100%|██████████| 13/13 [00:15<00:00,  1.08it/s]\n",
      "  0%|          | 0/13 [00:00<?, ?it/s]"
     ]
    },
    {
     "name": "stdout",
     "output_type": "stream",
     "text": [
      "tensor([[93.,  5.],\n",
      "        [87., 18.]])\n",
      "Precision [0.9489796  0.17142858]\tRecall [0.51666665 0.7826087 ]\n",
      "F1 [0.6690647 0.28125  ]\n",
      "AUC 0.6643343051506316\tAcc 0.546798050403595\tMean Loss 0.6857623595457811\n",
      "prune ratio:0.600000\n"
     ]
    },
    {
     "name": "stderr",
     "output_type": "stream",
     "text": [
      "100%|██████████| 13/13 [00:15<00:00,  1.07it/s]\n",
      "  0%|          | 0/13 [00:00<?, ?it/s]"
     ]
    },
    {
     "name": "stdout",
     "output_type": "stream",
     "text": [
      "tensor([[90.,  8.],\n",
      "        [88., 17.]])\n",
      "Precision [0.9183673  0.16190477]\tRecall [0.505618 0.68    ]\n",
      "F1 [0.65217394 0.26153848]\n",
      "AUC 0.5475218658892128\tAcc 0.5270935893058777\tMean Loss 0.6958974874936615\n",
      "prune ratio:0.700000\n"
     ]
    },
    {
     "name": "stderr",
     "output_type": "stream",
     "text": [
      "100%|██████████| 13/13 [00:16<00:00,  1.10s/it]\n",
      "  0%|          | 0/13 [00:00<?, ?it/s]"
     ]
    },
    {
     "name": "stdout",
     "output_type": "stream",
     "text": [
      "tensor([[46., 52.],\n",
      "        [48., 57.]])\n",
      "Precision [0.46938777 0.54285717]\tRecall [0.4893617 0.5229358]\n",
      "F1 [0.4791667 0.5327103]\n",
      "AUC 0.5234207968901847\tAcc 0.5073891878128052\tMean Loss 0.6934420099625223\n",
      "prune ratio:0.800000\n"
     ]
    },
    {
     "name": "stderr",
     "output_type": "stream",
     "text": [
      "100%|██████████| 13/13 [00:14<00:00,  1.04it/s]\n",
      "  0%|          | 0/13 [00:00<?, ?it/s]"
     ]
    },
    {
     "name": "stdout",
     "output_type": "stream",
     "text": [
      "tensor([[98.,  0.],\n",
      "        [99.,  6.]])\n",
      "Precision [1.         0.05714286]\tRecall [0.49746192 1.        ]\n",
      "F1 [0.6644068  0.10810811]\n",
      "AUC 0.639067055393586\tAcc 0.5123152732849121\tMean Loss 0.7113343614798326\n",
      "prune ratio:0.900000\n"
     ]
    },
    {
     "name": "stderr",
     "output_type": "stream",
     "text": [
      "100%|██████████| 13/13 [00:15<00:00,  1.06it/s]\n",
      "  0%|          | 0/13 [00:00<?, ?it/s]"
     ]
    },
    {
     "name": "stdout",
     "output_type": "stream",
     "text": [
      "tensor([[98.,  0.],\n",
      "        [98.,  7.]])\n",
      "Precision [1.         0.06666667]\tRecall [0.5 1. ]\n",
      "F1 [0.6666667 0.125    ]\n",
      "AUC 0.6143828960155491\tAcc 0.517241358757019\tMean Loss 0.745352538732382\n",
      "prunnableConv2D(\n",
      "  (conv): Conv2d(128, 512, kernel_size=(1, 1), stride=(1, 1), bias=False)\n",
      ")\n",
      "prune ratio:0.000000\n"
     ]
    },
    {
     "name": "stderr",
     "output_type": "stream",
     "text": [
      "100%|██████████| 13/13 [00:16<00:00,  1.04s/it]\n",
      "  0%|          | 0/13 [00:00<?, ?it/s]"
     ]
    },
    {
     "name": "stdout",
     "output_type": "stream",
     "text": [
      "tensor([[98.,  0.],\n",
      "        [98.,  7.]])\n",
      "Precision [1.         0.06666667]\tRecall [0.5 1. ]\n",
      "F1 [0.6666667 0.125    ]\n",
      "AUC 0.6143828960155491\tAcc 0.517241358757019\tMean Loss 0.745352538732382\n",
      "prune ratio:0.100000\n"
     ]
    },
    {
     "name": "stderr",
     "output_type": "stream",
     "text": [
      "100%|██████████| 13/13 [00:18<00:00,  1.24s/it]\n",
      "  0%|          | 0/13 [00:00<?, ?it/s]"
     ]
    },
    {
     "name": "stdout",
     "output_type": "stream",
     "text": [
      "tensor([[ 98.,   0.],\n",
      "        [100.,   5.]])\n",
      "Precision [1.         0.04761905]\tRecall [0.4949495 1.       ]\n",
      "F1 [0.6621622  0.09090909]\n",
      "AUC 0.585131195335277\tAcc 0.5073891878128052\tMean Loss 0.7459853635384486\n",
      "prune ratio:0.200000\n"
     ]
    },
    {
     "name": "stderr",
     "output_type": "stream",
     "text": [
      "100%|██████████| 13/13 [00:17<00:00,  1.10s/it]\n",
      "  0%|          | 0/13 [00:00<?, ?it/s]"
     ]
    },
    {
     "name": "stdout",
     "output_type": "stream",
     "text": [
      "tensor([[ 98.,   0.],\n",
      "        [100.,   5.]])\n",
      "Precision [1.         0.04761905]\tRecall [0.4949495 1.       ]\n",
      "F1 [0.6621622  0.09090909]\n",
      "AUC 0.5788143828960156\tAcc 0.5073891878128052\tMean Loss 0.7613414938633258\n",
      "prune ratio:0.300000\n"
     ]
    },
    {
     "name": "stderr",
     "output_type": "stream",
     "text": [
      "100%|██████████| 13/13 [00:17<00:00,  1.21s/it]\n",
      "  0%|          | 0/13 [00:00<?, ?it/s]"
     ]
    },
    {
     "name": "stdout",
     "output_type": "stream",
     "text": [
      "tensor([[98.,  0.],\n",
      "        [99.,  6.]])\n",
      "Precision [1.         0.05714286]\tRecall [0.49746192 1.        ]\n",
      "F1 [0.6644068  0.10810811]\n",
      "AUC 0.6165208940719146\tAcc 0.5123152732849121\tMean Loss 0.7287533741730909\n",
      "prune ratio:0.400000\n"
     ]
    },
    {
     "name": "stderr",
     "output_type": "stream",
     "text": [
      "100%|██████████| 13/13 [00:16<00:00,  1.10s/it]\n",
      "  0%|          | 0/13 [00:00<?, ?it/s]"
     ]
    },
    {
     "name": "stdout",
     "output_type": "stream",
     "text": [
      "tensor([[98.,  0.],\n",
      "        [96.,  9.]])\n",
      "Precision [1.         0.08571429]\tRecall [0.5051546 1.       ]\n",
      "F1 [0.6712329  0.15789473]\n",
      "AUC 0.600485908649174\tAcc 0.5270935893058777\tMean Loss 0.7368077750389392\n",
      "prune ratio:0.500000\n"
     ]
    },
    {
     "name": "stderr",
     "output_type": "stream",
     "text": [
      "100%|██████████| 13/13 [00:17<00:00,  1.08s/it]\n",
      "  0%|          | 0/13 [00:00<?, ?it/s]"
     ]
    },
    {
     "name": "stdout",
     "output_type": "stream",
     "text": [
      "tensor([[97.,  1.],\n",
      "        [94., 11.]])\n",
      "Precision [0.9897959  0.10476191]\tRecall [0.5078534 0.9166667]\n",
      "F1 [0.6712803  0.18803419]\n",
      "AUC 0.5652089407191447\tAcc 0.5320196747779846\tMean Loss 0.7374185346640073\n",
      "prune ratio:0.600000\n"
     ]
    },
    {
     "name": "stderr",
     "output_type": "stream",
     "text": [
      "100%|██████████| 13/13 [00:17<00:00,  1.12s/it]\n",
      "  0%|          | 0/13 [00:00<?, ?it/s]"
     ]
    },
    {
     "name": "stdout",
     "output_type": "stream",
     "text": [
      "tensor([[92.,  6.],\n",
      "        [86., 19.]])\n",
      "Precision [0.93877554 0.18095239]\tRecall [0.5168539 0.76     ]\n",
      "F1 [0.6666667 0.2923077]\n",
      "AUC 0.5910592808551993\tAcc 0.546798050403595\tMean Loss 0.7044976055622101\n",
      "prune ratio:0.700000\n"
     ]
    },
    {
     "name": "stderr",
     "output_type": "stream",
     "text": [
      "100%|██████████| 13/13 [00:17<00:00,  1.07s/it]\n",
      "  0%|          | 0/13 [00:00<?, ?it/s]"
     ]
    },
    {
     "name": "stdout",
     "output_type": "stream",
     "text": [
      "tensor([[90.,  8.],\n",
      "        [84., 21.]])\n",
      "Precision [0.9183673 0.2      ]\tRecall [0.51724136 0.7241379 ]\n",
      "F1 [0.66176474 0.31343284]\n",
      "AUC 0.5602526724975705\tAcc 0.546798050403595\tMean Loss 0.7220239226634686\n",
      "prune ratio:0.800000\n"
     ]
    },
    {
     "name": "stderr",
     "output_type": "stream",
     "text": [
      "100%|██████████| 13/13 [00:17<00:00,  1.20s/it]\n",
      "  0%|          | 0/13 [00:00<?, ?it/s]"
     ]
    },
    {
     "name": "stdout",
     "output_type": "stream",
     "text": [
      "tensor([[94.,  4.],\n",
      "        [91., 14.]])\n",
      "Precision [0.9591837  0.13333334]\tRecall [0.5081081 0.7777778]\n",
      "F1 [0.6643109  0.22764228]\n",
      "AUC 0.5350826044703595\tAcc 0.5320196747779846\tMean Loss 0.73137645308788\n",
      "prune ratio:0.900000\n"
     ]
    },
    {
     "name": "stderr",
     "output_type": "stream",
     "text": [
      "100%|██████████| 13/13 [00:16<00:00,  1.07s/it]\n",
      "  0%|          | 0/13 [00:00<?, ?it/s]"
     ]
    },
    {
     "name": "stdout",
     "output_type": "stream",
     "text": [
      "tensor([[96.,  2.],\n",
      "        [92., 13.]])\n",
      "Precision [0.97959185 0.12380952]\tRecall [0.5106383 0.8666667]\n",
      "F1 [0.6713287  0.21666667]\n",
      "AUC 0.5840621963070942\tAcc 0.5369458198547363\tMean Loss 0.734251856803894\n",
      "prunnableConv2D(\n",
      "  (conv): Conv2d(256, 1024, kernel_size=(1, 1), stride=(1, 1), bias=False)\n",
      ")\n",
      "prune ratio:0.000000\n"
     ]
    },
    {
     "name": "stderr",
     "output_type": "stream",
     "text": [
      "100%|██████████| 13/13 [00:17<00:00,  1.21s/it]\n",
      "  0%|          | 0/13 [00:00<?, ?it/s]"
     ]
    },
    {
     "name": "stdout",
     "output_type": "stream",
     "text": [
      "tensor([[96.,  2.],\n",
      "        [92., 13.]])\n",
      "Precision [0.97959185 0.12380952]\tRecall [0.5106383 0.8666667]\n",
      "F1 [0.6713287  0.21666667]\n",
      "AUC 0.5840621963070942\tAcc 0.5369458198547363\tMean Loss 0.734251856803894\n",
      "prune ratio:0.100000\n"
     ]
    },
    {
     "name": "stderr",
     "output_type": "stream",
     "text": [
      "100%|██████████| 13/13 [00:18<00:00,  1.08s/it]\n",
      "  0%|          | 0/13 [00:00<?, ?it/s]"
     ]
    },
    {
     "name": "stdout",
     "output_type": "stream",
     "text": [
      "tensor([[97.,  1.],\n",
      "        [93., 12.]])\n",
      "Precision [0.9897959  0.11428571]\tRecall [0.5105263 0.9230769]\n",
      "F1 [0.6736111  0.20338982]\n",
      "AUC 0.5988338192419825\tAcc 0.5369458198547363\tMean Loss 0.738310761176623\n",
      "prune ratio:0.200000\n"
     ]
    },
    {
     "name": "stderr",
     "output_type": "stream",
     "text": [
      "100%|██████████| 13/13 [00:17<00:00,  1.13s/it]\n",
      "  0%|          | 0/13 [00:00<?, ?it/s]"
     ]
    },
    {
     "name": "stdout",
     "output_type": "stream",
     "text": [
      "tensor([[98.,  0.],\n",
      "        [98.,  7.]])\n",
      "Precision [1.         0.06666667]\tRecall [0.5 1. ]\n",
      "F1 [0.6666667 0.125    ]\n",
      "AUC 0.6090379008746356\tAcc 0.517241358757019\tMean Loss 0.7509508981154515\n",
      "prune ratio:0.300000\n"
     ]
    },
    {
     "name": "stderr",
     "output_type": "stream",
     "text": [
      "100%|██████████| 13/13 [00:18<00:00,  1.27s/it]\n",
      "  0%|          | 0/13 [00:00<?, ?it/s]"
     ]
    },
    {
     "name": "stdout",
     "output_type": "stream",
     "text": [
      "tensor([[98.,  0.],\n",
      "        [97.,  8.]])\n",
      "Precision [1.         0.07619048]\tRecall [0.50256413 1.        ]\n",
      "F1 [0.668942   0.14159292]\n",
      "AUC 0.6233236151603501\tAcc 0.5221675038337708\tMean Loss 0.7421372166046729\n",
      "prune ratio:0.400000\n"
     ]
    },
    {
     "name": "stderr",
     "output_type": "stream",
     "text": [
      "100%|██████████| 13/13 [00:19<00:00,  1.36s/it]\n",
      "  0%|          | 0/13 [00:00<?, ?it/s]"
     ]
    },
    {
     "name": "stdout",
     "output_type": "stream",
     "text": [
      "tensor([[98.,  0.],\n",
      "        [98.,  7.]])\n",
      "Precision [1.         0.06666667]\tRecall [0.5 1. ]\n",
      "F1 [0.6666667 0.125    ]\n",
      "AUC 0.6132167152575316\tAcc 0.517241358757019\tMean Loss 0.7739181541479551\n",
      "prune ratio:0.500000\n"
     ]
    },
    {
     "name": "stderr",
     "output_type": "stream",
     "text": [
      "100%|██████████| 13/13 [00:20<00:00,  1.45s/it]\n",
      "  0%|          | 0/13 [00:00<?, ?it/s]"
     ]
    },
    {
     "name": "stdout",
     "output_type": "stream",
     "text": [
      "tensor([[98.,  0.],\n",
      "        [98.,  7.]])\n",
      "Precision [1.         0.06666667]\tRecall [0.5 1. ]\n",
      "F1 [0.6666667 0.125    ]\n",
      "AUC 0.6081632653061224\tAcc 0.517241358757019\tMean Loss 0.7982974419227014\n",
      "prune ratio:0.600000\n"
     ]
    },
    {
     "name": "stderr",
     "output_type": "stream",
     "text": [
      "100%|██████████| 13/13 [00:18<00:00,  1.15s/it]\n",
      "  0%|          | 0/13 [00:00<?, ?it/s]"
     ]
    },
    {
     "name": "stdout",
     "output_type": "stream",
     "text": [
      "tensor([[ 98.,   0.],\n",
      "        [104.,   1.]])\n",
      "Precision [1.         0.00952381]\tRecall [0.48514852 1.        ]\n",
      "F1 [0.6533333  0.01886792]\n",
      "AUC 0.5795918367346938\tAcc 0.4876847267150879\tMean Loss 0.8444643616676332\n",
      "prune ratio:0.700000\n"
     ]
    },
    {
     "name": "stderr",
     "output_type": "stream",
     "text": [
      "100%|██████████| 13/13 [00:20<00:00,  1.49s/it]\n",
      "  0%|          | 0/13 [00:00<?, ?it/s]"
     ]
    },
    {
     "name": "stdout",
     "output_type": "stream",
     "text": [
      "tensor([[ 98.,   0.],\n",
      "        [104.,   1.]])\n",
      "Precision [1.         0.00952381]\tRecall [0.48514852 1.        ]\n",
      "F1 [0.6533333  0.01886792]\n",
      "AUC 0.5871720116618077\tAcc 0.4876847267150879\tMean Loss 0.8424004339254819\n",
      "prune ratio:0.800000\n"
     ]
    },
    {
     "name": "stderr",
     "output_type": "stream",
     "text": [
      "100%|██████████| 13/13 [00:18<00:00,  1.15s/it]\n",
      "  0%|          | 0/13 [00:00<?, ?it/s]"
     ]
    },
    {
     "name": "stdout",
     "output_type": "stream",
     "text": [
      "tensor([[ 98.,   0.],\n",
      "        [104.,   1.]])\n",
      "Precision [1.         0.00952381]\tRecall [0.48514852 1.        ]\n",
      "F1 [0.6533333  0.01886792]\n",
      "AUC 0.5580174927113704\tAcc 0.4876847267150879\tMean Loss 0.8725380072226891\n",
      "prune ratio:0.900000\n"
     ]
    },
    {
     "name": "stderr",
     "output_type": "stream",
     "text": [
      "100%|██████████| 13/13 [00:17<00:00,  1.09s/it]\n",
      "  0%|          | 0/13 [00:00<?, ?it/s]"
     ]
    },
    {
     "name": "stdout",
     "output_type": "stream",
     "text": [
      "tensor([[ 98.,   0.],\n",
      "        [105.,   0.]])\n",
      "Precision [1. 0.]\tRecall [0.4827586       nan]\n",
      "F1 [0.65116274        nan]\n",
      "AUC 0.5304178814382896\tAcc 0.48275861144065857\tMean Loss 0.9132858285537133\n",
      "prunnableConv2D(\n",
      "  (conv): Conv2d(1024, 256, kernel_size=(1, 1), stride=(1, 1), bias=False)\n",
      ")\n",
      "prune ratio:0.000000\n"
     ]
    },
    {
     "name": "stderr",
     "output_type": "stream",
     "text": [
      "100%|██████████| 13/13 [00:17<00:00,  1.22s/it]\n",
      "  0%|          | 0/13 [00:00<?, ?it/s]"
     ]
    },
    {
     "name": "stdout",
     "output_type": "stream",
     "text": [
      "tensor([[ 98.,   0.],\n",
      "        [105.,   0.]])\n",
      "Precision [1. 0.]\tRecall [0.4827586       nan]\n",
      "F1 [0.65116274        nan]\n",
      "AUC 0.5304178814382896\tAcc 0.48275861144065857\tMean Loss 0.9132858285537133\n",
      "prune ratio:0.100000\n"
     ]
    },
    {
     "name": "stderr",
     "output_type": "stream",
     "text": [
      "100%|██████████| 13/13 [00:16<00:00,  1.22s/it]\n",
      "  0%|          | 0/13 [00:00<?, ?it/s]"
     ]
    },
    {
     "name": "stdout",
     "output_type": "stream",
     "text": [
      "tensor([[ 98.,   0.],\n",
      "        [105.,   0.]])\n",
      "Precision [1. 0.]\tRecall [0.4827586       nan]\n",
      "F1 [0.65116274        nan]\n",
      "AUC 0.5137026239067056\tAcc 0.48275861144065857\tMean Loss 0.9700490178970189\n",
      "prune ratio:0.200000\n"
     ]
    },
    {
     "name": "stderr",
     "output_type": "stream",
     "text": [
      "100%|██████████| 13/13 [00:17<00:00,  1.12s/it]\n",
      "  0%|          | 0/13 [00:00<?, ?it/s]"
     ]
    },
    {
     "name": "stdout",
     "output_type": "stream",
     "text": [
      "tensor([[ 98.,   0.],\n",
      "        [105.,   0.]])\n",
      "Precision [1. 0.]\tRecall [0.4827586       nan]\n",
      "F1 [0.65116274        nan]\n",
      "AUC 0.49825072886297367\tAcc 0.48275861144065857\tMean Loss 0.9662887178934538\n",
      "prune ratio:0.300000\n"
     ]
    },
    {
     "name": "stderr",
     "output_type": "stream",
     "text": [
      "100%|██████████| 13/13 [00:18<00:00,  1.27s/it]\n",
      "  0%|          | 0/13 [00:00<?, ?it/s]"
     ]
    },
    {
     "name": "stdout",
     "output_type": "stream",
     "text": [
      "tensor([[ 98.,   0.],\n",
      "        [105.,   0.]])\n",
      "Precision [1. 0.]\tRecall [0.4827586       nan]\n",
      "F1 [0.65116274        nan]\n",
      "AUC 0.5063168124392614\tAcc 0.48275861144065857\tMean Loss 0.9959811144150222\n",
      "prune ratio:0.400000\n"
     ]
    },
    {
     "name": "stderr",
     "output_type": "stream",
     "text": [
      "100%|██████████| 13/13 [00:16<00:00,  1.04s/it]\n",
      "  0%|          | 0/13 [00:00<?, ?it/s]"
     ]
    },
    {
     "name": "stdout",
     "output_type": "stream",
     "text": [
      "tensor([[ 98.,   0.],\n",
      "        [105.,   0.]])\n",
      "Precision [1. 0.]\tRecall [0.4827586       nan]\n",
      "F1 [0.65116274        nan]\n",
      "AUC 0.5055393586005831\tAcc 0.48275861144065857\tMean Loss 1.006264702631877\n",
      "prune ratio:0.500000\n"
     ]
    },
    {
     "name": "stderr",
     "output_type": "stream",
     "text": [
      "100%|██████████| 13/13 [00:16<00:00,  1.07s/it]\n",
      "  0%|          | 0/13 [00:00<?, ?it/s]"
     ]
    },
    {
     "name": "stdout",
     "output_type": "stream",
     "text": [
      "tensor([[ 98.,   0.],\n",
      "        [105.,   0.]])\n",
      "Precision [1. 0.]\tRecall [0.4827586       nan]\n",
      "F1 [0.65116274        nan]\n",
      "AUC 0.50466472303207\tAcc 0.48275861144065857\tMean Loss 1.023012400819705\n",
      "prune ratio:0.600000\n"
     ]
    },
    {
     "name": "stderr",
     "output_type": "stream",
     "text": [
      "100%|██████████| 13/13 [00:16<00:00,  1.08s/it]\n",
      "  0%|          | 0/13 [00:00<?, ?it/s]"
     ]
    },
    {
     "name": "stdout",
     "output_type": "stream",
     "text": [
      "tensor([[ 98.,   0.],\n",
      "        [105.,   0.]])\n",
      "Precision [1. 0.]\tRecall [0.4827586       nan]\n",
      "F1 [0.65116274        nan]\n",
      "AUC 0.5029154518950437\tAcc 0.48275861144065857\tMean Loss 1.0666336417198181\n",
      "prune ratio:0.700000\n"
     ]
    },
    {
     "name": "stderr",
     "output_type": "stream",
     "text": [
      "100%|██████████| 13/13 [00:17<00:00,  1.19s/it]\n",
      "  0%|          | 0/13 [00:00<?, ?it/s]"
     ]
    },
    {
     "name": "stdout",
     "output_type": "stream",
     "text": [
      "tensor([[ 98.,   0.],\n",
      "        [105.,   0.]])\n",
      "Precision [1. 0.]\tRecall [0.4827586       nan]\n",
      "F1 [0.65116274        nan]\n",
      "AUC 0.4886297376093295\tAcc 0.48275861144065857\tMean Loss 1.0712897261747947\n",
      "prune ratio:0.800000\n"
     ]
    },
    {
     "name": "stderr",
     "output_type": "stream",
     "text": [
      "100%|██████████| 13/13 [00:16<00:00,  1.10s/it]\n",
      "  0%|          | 0/13 [00:00<?, ?it/s]"
     ]
    },
    {
     "name": "stdout",
     "output_type": "stream",
     "text": [
      "tensor([[ 98.,   0.],\n",
      "        [105.,   0.]])\n",
      "Precision [1. 0.]\tRecall [0.4827586       nan]\n",
      "F1 [0.65116274        nan]\n",
      "AUC 0.5194363459669582\tAcc 0.48275861144065857\tMean Loss 1.1232480934033027\n",
      "prune ratio:0.900000\n"
     ]
    },
    {
     "name": "stderr",
     "output_type": "stream",
     "text": [
      "100%|██████████| 13/13 [00:17<00:00,  1.11s/it]\n",
      "  0%|          | 0/13 [00:00<?, ?it/s]"
     ]
    },
    {
     "name": "stdout",
     "output_type": "stream",
     "text": [
      "tensor([[ 98.,   0.],\n",
      "        [105.,   0.]])\n",
      "Precision [1. 0.]\tRecall [0.4827586       nan]\n",
      "F1 [0.65116274        nan]\n",
      "AUC 0.4922254616132167\tAcc 0.48275861144065857\tMean Loss 1.159517653286457\n",
      "prunnableConv2D(\n",
      "  (conv): Conv2d(2048, 512, kernel_size=(1, 1), stride=(1, 1), bias=False)\n",
      ")\n",
      "prune ratio:0.000000\n"
     ]
    },
    {
     "name": "stderr",
     "output_type": "stream",
     "text": [
      "100%|██████████| 13/13 [00:16<00:00,  1.12s/it]\n",
      "  0%|          | 0/13 [00:00<?, ?it/s]"
     ]
    },
    {
     "name": "stdout",
     "output_type": "stream",
     "text": [
      "tensor([[ 98.,   0.],\n",
      "        [105.,   0.]])\n",
      "Precision [1. 0.]\tRecall [0.4827586       nan]\n",
      "F1 [0.65116274        nan]\n",
      "AUC 0.4922254616132167\tAcc 0.48275861144065857\tMean Loss 1.159517653286457\n",
      "prune ratio:0.100000\n"
     ]
    },
    {
     "name": "stderr",
     "output_type": "stream",
     "text": [
      "100%|██████████| 13/13 [00:16<00:00,  1.09s/it]\n",
      "  0%|          | 0/13 [00:00<?, ?it/s]"
     ]
    },
    {
     "name": "stdout",
     "output_type": "stream",
     "text": [
      "tensor([[ 98.,   0.],\n",
      "        [105.,   0.]])\n",
      "Precision [1. 0.]\tRecall [0.4827586       nan]\n",
      "F1 [0.65116274        nan]\n",
      "AUC 0.5040816326530612\tAcc 0.48275861144065857\tMean Loss 1.111794147353906\n",
      "prune ratio:0.200000\n"
     ]
    },
    {
     "name": "stderr",
     "output_type": "stream",
     "text": [
      "100%|██████████| 13/13 [00:17<00:00,  1.21s/it]\n",
      "  0%|          | 0/13 [00:00<?, ?it/s]"
     ]
    },
    {
     "name": "stdout",
     "output_type": "stream",
     "text": [
      "tensor([[ 98.,   0.],\n",
      "        [105.,   0.]])\n",
      "Precision [1. 0.]\tRecall [0.4827586       nan]\n",
      "F1 [0.65116274        nan]\n",
      "AUC 0.49708454810495634\tAcc 0.48275861144065857\tMean Loss 1.055469742188087\n",
      "prune ratio:0.300000\n"
     ]
    },
    {
     "name": "stderr",
     "output_type": "stream",
     "text": [
      "100%|██████████| 13/13 [00:16<00:00,  1.00it/s]\n",
      "  0%|          | 0/13 [00:00<?, ?it/s]"
     ]
    },
    {
     "name": "stdout",
     "output_type": "stream",
     "text": [
      "tensor([[ 98.,   0.],\n",
      "        [105.,   0.]])\n",
      "Precision [1. 0.]\tRecall [0.4827586       nan]\n",
      "F1 [0.65116274        nan]\n",
      "AUC 0.4847424684159378\tAcc 0.48275861144065857\tMean Loss 1.0605962712031143\n",
      "prune ratio:0.400000\n"
     ]
    },
    {
     "name": "stderr",
     "output_type": "stream",
     "text": [
      "100%|██████████| 13/13 [00:18<00:00,  1.16s/it]\n",
      "  0%|          | 0/13 [00:00<?, ?it/s]"
     ]
    },
    {
     "name": "stdout",
     "output_type": "stream",
     "text": [
      "tensor([[ 98.,   0.],\n",
      "        [105.,   0.]])\n",
      "Precision [1. 0.]\tRecall [0.4827586       nan]\n",
      "F1 [0.65116274        nan]\n",
      "AUC 0.47201166180758014\tAcc 0.48275861144065857\tMean Loss 1.060100529056329\n",
      "prune ratio:0.500000\n"
     ]
    },
    {
     "name": "stderr",
     "output_type": "stream",
     "text": [
      "100%|██████████| 13/13 [00:18<00:00,  1.19s/it]\n",
      "  0%|          | 0/13 [00:00<?, ?it/s]"
     ]
    },
    {
     "name": "stdout",
     "output_type": "stream",
     "text": [
      "tensor([[ 98.,   0.],\n",
      "        [105.,   0.]])\n",
      "Precision [1. 0.]\tRecall [0.4827586       nan]\n",
      "F1 [0.65116274        nan]\n",
      "AUC 0.4955296404275996\tAcc 0.48275861144065857\tMean Loss 1.027278393507004\n",
      "prune ratio:0.600000\n"
     ]
    },
    {
     "name": "stderr",
     "output_type": "stream",
     "text": [
      "100%|██████████| 13/13 [00:17<00:00,  1.16s/it]\n",
      "  0%|          | 0/13 [00:00<?, ?it/s]"
     ]
    },
    {
     "name": "stdout",
     "output_type": "stream",
     "text": [
      "tensor([[ 98.,   0.],\n",
      "        [105.,   0.]])\n",
      "Precision [1. 0.]\tRecall [0.4827586       nan]\n",
      "F1 [0.65116274        nan]\n",
      "AUC 0.5055393586005831\tAcc 0.48275861144065857\tMean Loss 1.0575466591578264\n",
      "prune ratio:0.700000\n"
     ]
    },
    {
     "name": "stderr",
     "output_type": "stream",
     "text": [
      "100%|██████████| 13/13 [00:17<00:00,  1.21s/it]\n",
      "  0%|          | 0/13 [00:00<?, ?it/s]"
     ]
    },
    {
     "name": "stdout",
     "output_type": "stream",
     "text": [
      "tensor([[ 98.,   0.],\n",
      "        [105.,   0.]])\n",
      "Precision [1. 0.]\tRecall [0.4827586       nan]\n",
      "F1 [0.65116274        nan]\n",
      "AUC 0.5239067055393586\tAcc 0.48275861144065857\tMean Loss 0.9702819035603449\n",
      "prune ratio:0.800000\n"
     ]
    },
    {
     "name": "stderr",
     "output_type": "stream",
     "text": [
      "100%|██████████| 13/13 [00:19<00:00,  1.28s/it]\n",
      "  0%|          | 0/13 [00:00<?, ?it/s]"
     ]
    },
    {
     "name": "stdout",
     "output_type": "stream",
     "text": [
      "tensor([[ 98.,   0.],\n",
      "        [105.,   0.]])\n",
      "Precision [1. 0.]\tRecall [0.4827586       nan]\n",
      "F1 [0.65116274        nan]\n",
      "AUC 0.5311953352769679\tAcc 0.48275861144065857\tMean Loss 0.9919704164449985\n",
      "prune ratio:0.900000\n"
     ]
    },
    {
     "name": "stderr",
     "output_type": "stream",
     "text": [
      "100%|██████████| 13/13 [00:17<00:00,  1.16s/it]\n",
      "  0%|          | 0/13 [00:00<?, ?it/s]"
     ]
    },
    {
     "name": "stdout",
     "output_type": "stream",
     "text": [
      "tensor([[ 98.,   0.],\n",
      "        [105.,   0.]])\n",
      "Precision [1. 0.]\tRecall [0.4827586       nan]\n",
      "F1 [0.65116274        nan]\n",
      "AUC 0.5119533527696793\tAcc 0.48275861144065857\tMean Loss 0.9500321837571951\n",
      "prunnableLinear(\n",
      "  (linear): Linear(in_features=2048, out_features=2, bias=True)\n",
      ")\n",
      "prune ratio:0.000000\n"
     ]
    },
    {
     "name": "stderr",
     "output_type": "stream",
     "text": [
      "100%|██████████| 13/13 [00:17<00:00,  1.38s/it]\n",
      "  0%|          | 0/13 [00:00<?, ?it/s]"
     ]
    },
    {
     "name": "stdout",
     "output_type": "stream",
     "text": [
      "tensor([[ 98.,   0.],\n",
      "        [105.,   0.]])\n",
      "Precision [1. 0.]\tRecall [0.4827586       nan]\n",
      "F1 [0.65116274        nan]\n",
      "AUC 0.5119533527696793\tAcc 0.48275861144065857\tMean Loss 0.9500321837571951\n",
      "prune ratio:0.100000\n"
     ]
    },
    {
     "name": "stderr",
     "output_type": "stream",
     "text": [
      "100%|██████████| 13/13 [00:18<00:00,  1.25s/it]\n",
      "  0%|          | 0/13 [00:00<?, ?it/s]"
     ]
    },
    {
     "name": "stdout",
     "output_type": "stream",
     "text": [
      "tensor([[ 98.,   0.],\n",
      "        [105.,   0.]])\n",
      "Precision [1. 0.]\tRecall [0.4827586       nan]\n",
      "F1 [0.65116274        nan]\n",
      "AUC 0.5068027210884354\tAcc 0.48275861144065857\tMean Loss 0.8587943957402157\n",
      "prune ratio:0.200000\n"
     ]
    },
    {
     "name": "stderr",
     "output_type": "stream",
     "text": [
      "100%|██████████| 13/13 [00:18<00:00,  1.40s/it]\n",
      "  0%|          | 0/13 [00:00<?, ?it/s]"
     ]
    },
    {
     "name": "stdout",
     "output_type": "stream",
     "text": [
      "tensor([[ 98.,   0.],\n",
      "        [105.,   0.]])\n",
      "Precision [1. 0.]\tRecall [0.4827586       nan]\n",
      "F1 [0.65116274        nan]\n",
      "AUC 0.4828960155490769\tAcc 0.48275861144065857\tMean Loss 0.8490759455240691\n",
      "prune ratio:0.300000\n"
     ]
    },
    {
     "name": "stderr",
     "output_type": "stream",
     "text": [
      "100%|██████████| 13/13 [00:17<00:00,  1.23s/it]\n",
      "  0%|          | 0/13 [00:00<?, ?it/s]"
     ]
    },
    {
     "name": "stdout",
     "output_type": "stream",
     "text": [
      "tensor([[ 98.,   0.],\n",
      "        [105.,   0.]])\n",
      "Precision [1. 0.]\tRecall [0.4827586       nan]\n",
      "F1 [0.65116274        nan]\n",
      "AUC 0.505150631681244\tAcc 0.48275861144065857\tMean Loss 0.8916095208663207\n",
      "prune ratio:0.400000\n"
     ]
    },
    {
     "name": "stderr",
     "output_type": "stream",
     "text": [
      "100%|██████████| 13/13 [00:18<00:00,  1.27s/it]\n",
      "  0%|          | 0/13 [00:00<?, ?it/s]"
     ]
    },
    {
     "name": "stdout",
     "output_type": "stream",
     "text": [
      "tensor([[ 98.,   0.],\n",
      "        [105.,   0.]])\n",
      "Precision [1. 0.]\tRecall [0.4827586       nan]\n",
      "F1 [0.65116274        nan]\n",
      "AUC 0.5095238095238095\tAcc 0.48275861144065857\tMean Loss 0.9390131624845358\n",
      "prune ratio:0.500000\n"
     ]
    },
    {
     "name": "stderr",
     "output_type": "stream",
     "text": [
      "100%|██████████| 13/13 [00:18<00:00,  1.57s/it]\n",
      "  0%|          | 0/13 [00:00<?, ?it/s]"
     ]
    },
    {
     "name": "stdout",
     "output_type": "stream",
     "text": [
      "tensor([[ 98.,   0.],\n",
      "        [105.,   0.]])\n",
      "Precision [1. 0.]\tRecall [0.4827586       nan]\n",
      "F1 [0.65116274        nan]\n",
      "AUC 0.5044703595724005\tAcc 0.48275861144065857\tMean Loss 0.7654550602802863\n",
      "prune ratio:0.600000\n"
     ]
    },
    {
     "name": "stderr",
     "output_type": "stream",
     "text": [
      "100%|██████████| 13/13 [00:19<00:00,  1.24s/it]\n",
      "  0%|          | 0/13 [00:00<?, ?it/s]"
     ]
    },
    {
     "name": "stdout",
     "output_type": "stream",
     "text": [
      "tensor([[ 97.,   1.],\n",
      "        [100.,   5.]])\n",
      "Precision [0.9897959  0.04761905]\tRecall [0.49238577 0.8333333 ]\n",
      "F1 [0.6576271 0.0900901]\n",
      "AUC 0.46656948493683187\tAcc 0.5024630427360535\tMean Loss 0.709709644317627\n",
      "prune ratio:0.700000\n"
     ]
    },
    {
     "name": "stderr",
     "output_type": "stream",
     "text": [
      "100%|██████████| 13/13 [00:17<00:00,  1.24s/it]\n",
      "  0%|          | 0/13 [00:00<?, ?it/s]"
     ]
    },
    {
     "name": "stdout",
     "output_type": "stream",
     "text": [
      "tensor([[ 98.,   0.],\n",
      "        [105.,   0.]])\n",
      "Precision [1. 0.]\tRecall [0.4827586       nan]\n",
      "F1 [0.65116274        nan]\n",
      "AUC 0.47240038872691936\tAcc 0.48275861144065857\tMean Loss 0.7290714841622573\n",
      "prune ratio:0.800000\n"
     ]
    },
    {
     "name": "stderr",
     "output_type": "stream",
     "text": [
      "100%|██████████| 13/13 [00:16<00:00,  1.08s/it]\n",
      "  0%|          | 0/13 [00:00<?, ?it/s]"
     ]
    },
    {
     "name": "stdout",
     "output_type": "stream",
     "text": [
      "tensor([[ 98.,   0.],\n",
      "        [104.,   1.]])\n",
      "Precision [1.         0.00952381]\tRecall [0.48514852 1.        ]\n",
      "F1 [0.6533333  0.01886792]\n",
      "AUC 0.4280855199222546\tAcc 0.4876847267150879\tMean Loss 0.7037496612622186\n",
      "prune ratio:0.900000\n"
     ]
    },
    {
     "name": "stderr",
     "output_type": "stream",
     "text": [
      "100%|██████████| 13/13 [00:19<00:00,  1.29s/it]"
     ]
    },
    {
     "name": "stdout",
     "output_type": "stream",
     "text": [
      "tensor([[  0.,  98.],\n",
      "        [  0., 105.]])\n",
      "Precision [0. 1.]\tRecall [       nan 0.51724136]\n",
      "F1 [      nan 0.6818182]\n",
      "AUC 0.5241010689990282\tAcc 0.517241358757019\tMean Loss 0.6912285272891705\n"
     ]
    },
    {
     "name": "stderr",
     "output_type": "stream",
     "text": [
      "\n"
     ]
    }
   ],
   "source": [
    "\n",
    "ratios=[i/100 for i in range(0,91,10)]\n",
    "yconvACC,yconvFN=[],[]\n",
    "ydenseACC,ydenseFN=[],[]\n",
    "cntConv=-1\n",
    "for m in model.modules():\n",
    "    yACC=[]\n",
    "    yFN=[]\n",
    "    if isinstance(m, (prunnableConv2D,prunnableLinear)):\n",
    "        if isinstance(m,prunnableConv2D):\n",
    "            cntConv+=1\n",
    "            if cntConv%10!=0:continue\n",
    "        print(m) \n",
    "        for r in ratios:\n",
    "            m.setPruneRatio(r)\n",
    "            print('prune ratio:%f'%r)\n",
    "            AUC, precision, recall, f1, acc, mean_loss = test(model, 2, test_loader, device)\n",
    "            print('Precision {}\\tRecall {}\\nF1 {}\\nAUC {}\\tAcc {}\\tMean Loss {}'.format(precision, recall, f1, AUC, acc,\n",
    "                                                                            mean_loss))\n",
    "            yACC.append(acc.numpy().tolist())\n",
    "            yFN.append(recall[1])\n",
    "            m.resetPruneRatio()\n",
    "    if isinstance(m,prunnableConv2D):\n",
    "        yconvACC.append(yACC.copy())\n",
    "        yconvFN.append(yFN.copy())\n",
    "    elif isinstance(m,prunnableLinear):\n",
    "        ydenseACC.append(yACC.copy())\n",
    "        ydenseFN.append(yFN.copy())"
   ]
  },
  {
   "cell_type": "code",
   "execution_count": 4,
   "metadata": {},
   "outputs": [],
   "source": [
    "np.save('yconvACC.npy', yconvACC)\n",
    "np.save('yconvFN.npy', yconvFN)\n",
    "np.save('ydenseACC.npy', ydenseACC)\n",
    "np.save('ydenseFN.npy', ydenseFN)\n",
    "yconvACC_bak,yconvFN_bak=yconvACC.copy(),yconvFN.copy()\n",
    "ydenseACC_bak,ydenseFN_bak=ydenseACC.copy(),ydenseFN.copy()"
   ]
  },
  {
   "cell_type": "code",
   "execution_count": 5,
   "metadata": {},
   "outputs": [
    {
     "data": {
      "image/png": "[encoded data removed]",
      "text/plain": [
       "<Figure size 432x288 with 1 Axes>"
      ]
     },
     "metadata": {
      "needs_background": "light"
     },
     "output_type": "display_data"
    }
   ],
   "source": [
    "\n",
    "# for i in range(8):\n",
    "#     if yacc[i]==np.nan:yacc[i]=0\n",
    "#     if yFNs[i]==np.nan:yFNs[i]=0\n",
    "\n",
    "for yACC in yconvACC:\n",
    "    plt.plot(ratios, yACC)\n",
    "\n",
    "plt.show()\n",
    "# plt.legend([\"R1=\"+str(i/8) for i in range(1,9)], loc='lower right')\n",
    "# plt.show()"
   ]
  },
  {
   "cell_type": "code",
   "execution_count": null,
   "metadata": {},
   "outputs": [],
   "source": []
  }
 ],
 "metadata": {
  "kernelspec": {
   "display_name": "Python 3",
   "language": "python",
   "name": "python3"
  },
  "language_info": {
   "codemirror_mode": {
    "name": "ipython",
    "version": 3
   },
   "file_extension": ".py",
   "mimetype": "text/x-python",
   "name": "python",
   "nbconvert_exporter": "python",
   "pygments_lexer": "ipython3",
   "version": "3.7.3"
  },
  "varInspector": {
   "cols": {
    "lenName": 16,
    "lenType": 16,
    "lenVar": 40
   },
   "kernels_config": {
    "python": {
     "delete_cmd_postfix": "",
     "delete_cmd_prefix": "del ",
     "library": "var_list.py",
     "varRefreshCmd": "print(var_dic_list())"
    },
    "r": {
     "delete_cmd_postfix": ") ",
     "delete_cmd_prefix": "rm(",
     "library": "var_list.r",
     "varRefreshCmd": "cat(var_dic_list()) "
    }
   },
   "types_to_exclude": [
    "module",
    "function",
    "builtin_function_or_method",
    "instance",
    "_Feature"
   ],
   "window_display": false
  }
 },
 "nbformat": 4,
 "nbformat_minor": 2
}
